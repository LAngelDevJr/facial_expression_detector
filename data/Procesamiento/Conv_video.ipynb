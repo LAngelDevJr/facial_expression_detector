{
 "cells": [
  {
   "cell_type": "code",
   "execution_count": 4,
   "id": "f55e9948",
   "metadata": {},
   "outputs": [
    {
     "name": "stdout",
     "output_type": "stream",
     "text": [
      "¿Qué deseas procesar?\n",
      "1. Solo las carpetas de 'A ver'\n",
      "2. Todas las expresiones (incluyendo 'A ver' y otras)\n",
      "3. Solo verificar videos existentes\n",
      "\n",
      "Procesando todas las expresiones...\n",
      "\n",
      "\n",
      "🔍 Procesando expresión: A ver\n"
     ]
    },
    {
     "name": "stderr",
     "output_type": "stream",
     "text": [
      "Procesando CARA: 100%|██████████| 69/69 [00:00<00:00, 125.43it/s]\n"
     ]
    },
    {
     "name": "stdout",
     "output_type": "stream",
     "text": [
      "✅ Video generado correctamente en: C:\\Users\\Invitado\\Documents\\facial_expression_detector\\data_procesada\\data\\SUJETO 2\\senas_procesadas\\A ver\\muestra_1\\a_ver_muestra_1.mp4\n"
     ]
    },
    {
     "name": "stderr",
     "output_type": "stream",
     "text": [
      "Procesando CARA: 100%|██████████| 70/70 [00:00<00:00, 123.41it/s]\n"
     ]
    },
    {
     "name": "stdout",
     "output_type": "stream",
     "text": [
      "✅ Video generado correctamente en: C:\\Users\\Invitado\\Documents\\facial_expression_detector\\data_procesada\\data\\SUJETO 2\\senas_procesadas\\A ver\\muestra_2\\a_ver_muestra_2.mp4\n"
     ]
    },
    {
     "name": "stderr",
     "output_type": "stream",
     "text": [
      "Procesando CARA: 100%|██████████| 62/62 [00:00<00:00, 123.11it/s]\n"
     ]
    },
    {
     "name": "stdout",
     "output_type": "stream",
     "text": [
      "✅ Video generado correctamente en: C:\\Users\\Invitado\\Documents\\facial_expression_detector\\data_procesada\\data\\SUJETO 2\\senas_procesadas\\A ver\\muestra_3\\a_ver_muestra_3.mp4\n"
     ]
    },
    {
     "name": "stderr",
     "output_type": "stream",
     "text": [
      "Procesando CARA: 100%|██████████| 71/71 [00:00<00:00, 126.57it/s]\n"
     ]
    },
    {
     "name": "stdout",
     "output_type": "stream",
     "text": [
      "✅ Video generado correctamente en: C:\\Users\\Invitado\\Documents\\facial_expression_detector\\data_procesada\\data\\SUJETO 2\\senas_procesadas\\A ver\\muestra_4\\a_ver_muestra_4.mp4\n"
     ]
    },
    {
     "name": "stderr",
     "output_type": "stream",
     "text": [
      "Procesando CARA: 100%|██████████| 80/80 [00:00<00:00, 122.84it/s]\n"
     ]
    },
    {
     "name": "stdout",
     "output_type": "stream",
     "text": [
      "✅ Video generado correctamente en: C:\\Users\\Invitado\\Documents\\facial_expression_detector\\data_procesada\\data\\SUJETO 2\\senas_procesadas\\A ver\\muestra_5\\a_ver_muestra_5.mp4\n"
     ]
    },
    {
     "name": "stderr",
     "output_type": "stream",
     "text": [
      "Procesando CARA: 100%|██████████| 72/72 [00:00<00:00, 126.97it/s]\n"
     ]
    },
    {
     "name": "stdout",
     "output_type": "stream",
     "text": [
      "✅ Video generado correctamente en: C:\\Users\\Invitado\\Documents\\facial_expression_detector\\data_procesada\\data\\SUJETO 2\\senas_procesadas\\A ver\\muestra_6\\a_ver_muestra_6.mp4\n",
      "\n",
      "🔍 Procesando expresión: Aburrido\n"
     ]
    },
    {
     "name": "stderr",
     "output_type": "stream",
     "text": [
      "Procesando CARA: 100%|██████████| 68/68 [00:00<00:00, 109.53it/s]\n"
     ]
    },
    {
     "name": "stdout",
     "output_type": "stream",
     "text": [
      "✅ Video generado correctamente en: C:\\Users\\Invitado\\Documents\\facial_expression_detector\\data_procesada\\data\\SUJETO 2\\senas_procesadas\\Aburrido\\muestra_1\\aburrido_muestra_1.mp4\n"
     ]
    },
    {
     "name": "stderr",
     "output_type": "stream",
     "text": [
      "Procesando CARA: 100%|██████████| 87/87 [00:00<00:00, 110.80it/s]\n"
     ]
    },
    {
     "name": "stdout",
     "output_type": "stream",
     "text": [
      "✅ Video generado correctamente en: C:\\Users\\Invitado\\Documents\\facial_expression_detector\\data_procesada\\data\\SUJETO 2\\senas_procesadas\\Aburrido\\muestra_2\\aburrido_muestra_2.mp4\n"
     ]
    },
    {
     "name": "stderr",
     "output_type": "stream",
     "text": [
      "Procesando CARA: 100%|██████████| 82/82 [00:00<00:00, 109.46it/s]\n"
     ]
    },
    {
     "name": "stdout",
     "output_type": "stream",
     "text": [
      "✅ Video generado correctamente en: C:\\Users\\Invitado\\Documents\\facial_expression_detector\\data_procesada\\data\\SUJETO 2\\senas_procesadas\\Aburrido\\muestra_3\\aburrido_muestra_3.mp4\n"
     ]
    },
    {
     "name": "stderr",
     "output_type": "stream",
     "text": [
      "Procesando CARA: 100%|██████████| 106/106 [00:00<00:00, 113.95it/s]\n"
     ]
    },
    {
     "name": "stdout",
     "output_type": "stream",
     "text": [
      "✅ Video generado correctamente en: C:\\Users\\Invitado\\Documents\\facial_expression_detector\\data_procesada\\data\\SUJETO 2\\senas_procesadas\\Aburrido\\muestra_4\\aburrido_muestra_4.mp4\n"
     ]
    },
    {
     "name": "stderr",
     "output_type": "stream",
     "text": [
      "Procesando CARA: 100%|██████████| 133/133 [00:01<00:00, 112.92it/s]\n"
     ]
    },
    {
     "name": "stdout",
     "output_type": "stream",
     "text": [
      "✅ Video generado correctamente en: C:\\Users\\Invitado\\Documents\\facial_expression_detector\\data_procesada\\data\\SUJETO 2\\senas_procesadas\\Aburrido\\muestra_5\\aburrido_muestra_5.mp4\n",
      "\n",
      "🔍 Procesando expresión: Cansado\n"
     ]
    },
    {
     "name": "stderr",
     "output_type": "stream",
     "text": [
      "Procesando CARA: 100%|██████████| 86/86 [00:00<00:00, 112.82it/s]\n"
     ]
    },
    {
     "name": "stdout",
     "output_type": "stream",
     "text": [
      "✅ Video generado correctamente en: C:\\Users\\Invitado\\Documents\\facial_expression_detector\\data_procesada\\data\\SUJETO 2\\senas_procesadas\\Cansado\\muestra_1\\cansado_muestra_1.mp4\n"
     ]
    },
    {
     "name": "stderr",
     "output_type": "stream",
     "text": [
      "Procesando CARA: 100%|██████████| 102/102 [00:00<00:00, 112.77it/s]\n"
     ]
    },
    {
     "name": "stdout",
     "output_type": "stream",
     "text": [
      "✅ Video generado correctamente en: C:\\Users\\Invitado\\Documents\\facial_expression_detector\\data_procesada\\data\\SUJETO 2\\senas_procesadas\\Cansado\\muestra_2\\cansado_muestra_2.mp4\n"
     ]
    },
    {
     "name": "stderr",
     "output_type": "stream",
     "text": [
      "Procesando CARA: 100%|██████████| 75/75 [00:00<00:00, 108.77it/s]\n"
     ]
    },
    {
     "name": "stdout",
     "output_type": "stream",
     "text": [
      "✅ Video generado correctamente en: C:\\Users\\Invitado\\Documents\\facial_expression_detector\\data_procesada\\data\\SUJETO 2\\senas_procesadas\\Cansado\\muestra_3\\cansado_muestra_3.mp4\n"
     ]
    },
    {
     "name": "stderr",
     "output_type": "stream",
     "text": [
      "Procesando CARA: 100%|██████████| 75/75 [00:00<00:00, 123.13it/s]\n"
     ]
    },
    {
     "name": "stdout",
     "output_type": "stream",
     "text": [
      "✅ Video generado correctamente en: C:\\Users\\Invitado\\Documents\\facial_expression_detector\\data_procesada\\data\\SUJETO 2\\senas_procesadas\\Cansado\\muestra_4\\cansado_muestra_4.mp4\n"
     ]
    },
    {
     "name": "stderr",
     "output_type": "stream",
     "text": [
      "Procesando CARA: 100%|██████████| 19/19 [00:00<00:00, 97.02it/s]\n"
     ]
    },
    {
     "name": "stdout",
     "output_type": "stream",
     "text": [
      "✅ Video generado correctamente en: C:\\Users\\Invitado\\Documents\\facial_expression_detector\\data_procesada\\data\\SUJETO 2\\senas_procesadas\\Cansado\\muestra_5\\cansado_muestra_5.mp4\n"
     ]
    },
    {
     "name": "stderr",
     "output_type": "stream",
     "text": [
      "Procesando CARA: 100%|██████████| 94/94 [00:00<00:00, 120.23it/s]\n"
     ]
    },
    {
     "name": "stdout",
     "output_type": "stream",
     "text": [
      "✅ Video generado correctamente en: C:\\Users\\Invitado\\Documents\\facial_expression_detector\\data_procesada\\data\\SUJETO 2\\senas_procesadas\\Cansado\\muestra_6\\cansado_muestra_6.mp4\n",
      "\n",
      "🔍 Procesando expresión: Disgusto\n"
     ]
    },
    {
     "name": "stderr",
     "output_type": "stream",
     "text": [
      "Procesando CARA: 100%|██████████| 65/65 [00:00<00:00, 109.47it/s]\n"
     ]
    },
    {
     "name": "stdout",
     "output_type": "stream",
     "text": [
      "✅ Video generado correctamente en: C:\\Users\\Invitado\\Documents\\facial_expression_detector\\data_procesada\\data\\SUJETO 2\\senas_procesadas\\Disgusto\\muestra_1\\disgusto_muestra_1.mp4\n"
     ]
    },
    {
     "name": "stderr",
     "output_type": "stream",
     "text": [
      "Procesando CARA: 100%|██████████| 73/73 [00:00<00:00, 109.18it/s]\n"
     ]
    },
    {
     "name": "stdout",
     "output_type": "stream",
     "text": [
      "✅ Video generado correctamente en: C:\\Users\\Invitado\\Documents\\facial_expression_detector\\data_procesada\\data\\SUJETO 2\\senas_procesadas\\Disgusto\\muestra_2\\disgusto_muestra_2.mp4\n"
     ]
    },
    {
     "name": "stderr",
     "output_type": "stream",
     "text": [
      "Procesando CARA: 100%|██████████| 69/69 [00:00<00:00, 104.68it/s]\n"
     ]
    },
    {
     "name": "stdout",
     "output_type": "stream",
     "text": [
      "✅ Video generado correctamente en: C:\\Users\\Invitado\\Documents\\facial_expression_detector\\data_procesada\\data\\SUJETO 2\\senas_procesadas\\Disgusto\\muestra_3\\disgusto_muestra_3.mp4\n"
     ]
    },
    {
     "name": "stderr",
     "output_type": "stream",
     "text": [
      "Procesando CARA: 100%|██████████| 72/72 [00:00<00:00, 110.12it/s]\n"
     ]
    },
    {
     "name": "stdout",
     "output_type": "stream",
     "text": [
      "✅ Video generado correctamente en: C:\\Users\\Invitado\\Documents\\facial_expression_detector\\data_procesada\\data\\SUJETO 2\\senas_procesadas\\Disgusto\\muestra_4\\disgusto_muestra_4.mp4\n"
     ]
    },
    {
     "name": "stderr",
     "output_type": "stream",
     "text": [
      "Procesando CARA: 100%|██████████| 86/86 [00:00<00:00, 111.06it/s]\n"
     ]
    },
    {
     "name": "stdout",
     "output_type": "stream",
     "text": [
      "✅ Video generado correctamente en: C:\\Users\\Invitado\\Documents\\facial_expression_detector\\data_procesada\\data\\SUJETO 2\\senas_procesadas\\Disgusto\\muestra_5\\disgusto_muestra_5.mp4\n"
     ]
    },
    {
     "name": "stderr",
     "output_type": "stream",
     "text": [
      "Procesando CARA: 100%|██████████| 104/104 [00:00<00:00, 114.48it/s]\n"
     ]
    },
    {
     "name": "stdout",
     "output_type": "stream",
     "text": [
      "✅ Video generado correctamente en: C:\\Users\\Invitado\\Documents\\facial_expression_detector\\data_procesada\\data\\SUJETO 2\\senas_procesadas\\Disgusto\\muestra_6\\disgusto_muestra_6.mp4\n",
      "\n",
      "🔍 Procesando expresión: Feliz\n"
     ]
    },
    {
     "name": "stderr",
     "output_type": "stream",
     "text": [
      "Procesando CARA: 100%|██████████| 55/55 [00:00<00:00, 105.42it/s]\n"
     ]
    },
    {
     "name": "stdout",
     "output_type": "stream",
     "text": [
      "✅ Video generado correctamente en: C:\\Users\\Invitado\\Documents\\facial_expression_detector\\data_procesada\\data\\SUJETO 2\\senas_procesadas\\Feliz\\muestra_1\\feliz_muestra_1.mp4\n"
     ]
    },
    {
     "name": "stderr",
     "output_type": "stream",
     "text": [
      "Procesando CARA: 100%|██████████| 111/111 [00:01<00:00, 107.20it/s]\n"
     ]
    },
    {
     "name": "stdout",
     "output_type": "stream",
     "text": [
      "✅ Video generado correctamente en: C:\\Users\\Invitado\\Documents\\facial_expression_detector\\data_procesada\\data\\SUJETO 2\\senas_procesadas\\Feliz\\muestra_2\\feliz_muestra_2.mp4\n"
     ]
    },
    {
     "name": "stderr",
     "output_type": "stream",
     "text": [
      "Procesando CARA: 100%|██████████| 112/112 [00:01<00:00, 106.40it/s]\n"
     ]
    },
    {
     "name": "stdout",
     "output_type": "stream",
     "text": [
      "✅ Video generado correctamente en: C:\\Users\\Invitado\\Documents\\facial_expression_detector\\data_procesada\\data\\SUJETO 2\\senas_procesadas\\Feliz\\muestra_3\\feliz_muestra_3.mp4\n"
     ]
    },
    {
     "name": "stderr",
     "output_type": "stream",
     "text": [
      "Procesando CARA: 100%|██████████| 63/63 [00:00<00:00, 105.36it/s]\n"
     ]
    },
    {
     "name": "stdout",
     "output_type": "stream",
     "text": [
      "✅ Video generado correctamente en: C:\\Users\\Invitado\\Documents\\facial_expression_detector\\data_procesada\\data\\SUJETO 2\\senas_procesadas\\Feliz\\muestra_4\\feliz_muestra_4.mp4\n"
     ]
    },
    {
     "name": "stderr",
     "output_type": "stream",
     "text": [
      "Procesando CARA: 100%|██████████| 81/81 [00:00<00:00, 112.99it/s]\n"
     ]
    },
    {
     "name": "stdout",
     "output_type": "stream",
     "text": [
      "✅ Video generado correctamente en: C:\\Users\\Invitado\\Documents\\facial_expression_detector\\data_procesada\\data\\SUJETO 2\\senas_procesadas\\Feliz\\muestra_5\\feliz_muestra_5.mp4\n"
     ]
    },
    {
     "name": "stderr",
     "output_type": "stream",
     "text": [
      "Procesando CARA: 100%|██████████| 100/100 [00:00<00:00, 111.07it/s]\n"
     ]
    },
    {
     "name": "stdout",
     "output_type": "stream",
     "text": [
      "✅ Video generado correctamente en: C:\\Users\\Invitado\\Documents\\facial_expression_detector\\data_procesada\\data\\SUJETO 2\\senas_procesadas\\Feliz\\muestra_6\\feliz_muestra_6.mp4\n",
      "\n",
      "🔍 Procesando expresión: Huele mal\n"
     ]
    },
    {
     "name": "stderr",
     "output_type": "stream",
     "text": [
      "Procesando CARA: 100%|██████████| 110/110 [00:01<00:00, 109.49it/s]\n"
     ]
    },
    {
     "name": "stdout",
     "output_type": "stream",
     "text": [
      "✅ Video generado correctamente en: C:\\Users\\Invitado\\Documents\\facial_expression_detector\\data_procesada\\data\\SUJETO 2\\senas_procesadas\\Huele mal\\muestra_1\\huele_mal_muestra_1.mp4\n"
     ]
    },
    {
     "name": "stderr",
     "output_type": "stream",
     "text": [
      "Procesando CARA: 100%|██████████| 90/90 [00:00<00:00, 110.45it/s]\n"
     ]
    },
    {
     "name": "stdout",
     "output_type": "stream",
     "text": [
      "✅ Video generado correctamente en: C:\\Users\\Invitado\\Documents\\facial_expression_detector\\data_procesada\\data\\SUJETO 2\\senas_procesadas\\Huele mal\\muestra_2\\huele_mal_muestra_2.mp4\n"
     ]
    },
    {
     "name": "stderr",
     "output_type": "stream",
     "text": [
      "Procesando CARA: 100%|██████████| 99/99 [00:00<00:00, 109.54it/s]\n"
     ]
    },
    {
     "name": "stdout",
     "output_type": "stream",
     "text": [
      "✅ Video generado correctamente en: C:\\Users\\Invitado\\Documents\\facial_expression_detector\\data_procesada\\data\\SUJETO 2\\senas_procesadas\\Huele mal\\muestra_3\\huele_mal_muestra_3.mp4\n"
     ]
    },
    {
     "name": "stderr",
     "output_type": "stream",
     "text": [
      "Procesando CARA: 100%|██████████| 98/98 [00:00<00:00, 109.09it/s]\n"
     ]
    },
    {
     "name": "stdout",
     "output_type": "stream",
     "text": [
      "✅ Video generado correctamente en: C:\\Users\\Invitado\\Documents\\facial_expression_detector\\data_procesada\\data\\SUJETO 2\\senas_procesadas\\Huele mal\\muestra_4\\huele_mal_muestra_4.mp4\n"
     ]
    },
    {
     "name": "stderr",
     "output_type": "stream",
     "text": [
      "Procesando CARA: 100%|██████████| 119/119 [00:01<00:00, 111.55it/s]\n"
     ]
    },
    {
     "name": "stdout",
     "output_type": "stream",
     "text": [
      "✅ Video generado correctamente en: C:\\Users\\Invitado\\Documents\\facial_expression_detector\\data_procesada\\data\\SUJETO 2\\senas_procesadas\\Huele mal\\muestra_5\\huele_mal_muestra_5.mp4\n"
     ]
    },
    {
     "name": "stderr",
     "output_type": "stream",
     "text": [
      "Procesando CARA: 100%|██████████| 134/134 [00:01<00:00, 108.82it/s]\n"
     ]
    },
    {
     "name": "stdout",
     "output_type": "stream",
     "text": [
      "✅ Video generado correctamente en: C:\\Users\\Invitado\\Documents\\facial_expression_detector\\data_procesada\\data\\SUJETO 2\\senas_procesadas\\Huele mal\\muestra_6\\huele_mal_muestra_6.mp4\n",
      "\n",
      "🔍 Procesando expresión: Ladron\n"
     ]
    },
    {
     "name": "stderr",
     "output_type": "stream",
     "text": [
      "Procesando CARA: 100%|██████████| 47/47 [00:00<00:00, 114.82it/s]\n"
     ]
    },
    {
     "name": "stdout",
     "output_type": "stream",
     "text": [
      "✅ Video generado correctamente en: C:\\Users\\Invitado\\Documents\\facial_expression_detector\\data_procesada\\data\\SUJETO 2\\senas_procesadas\\Ladron\\muestra_1\\ladron_muestra_1.mp4\n"
     ]
    },
    {
     "name": "stderr",
     "output_type": "stream",
     "text": [
      "Procesando CARA: 100%|██████████| 88/88 [00:00<00:00, 111.49it/s]\n"
     ]
    },
    {
     "name": "stdout",
     "output_type": "stream",
     "text": [
      "✅ Video generado correctamente en: C:\\Users\\Invitado\\Documents\\facial_expression_detector\\data_procesada\\data\\SUJETO 2\\senas_procesadas\\Ladron\\muestra_2\\ladron_muestra_2.mp4\n"
     ]
    },
    {
     "name": "stderr",
     "output_type": "stream",
     "text": [
      "Procesando CARA: 100%|██████████| 84/84 [00:00<00:00, 109.61it/s]\n"
     ]
    },
    {
     "name": "stdout",
     "output_type": "stream",
     "text": [
      "✅ Video generado correctamente en: C:\\Users\\Invitado\\Documents\\facial_expression_detector\\data_procesada\\data\\SUJETO 2\\senas_procesadas\\Ladron\\muestra_3\\ladron_muestra_3.mp4\n"
     ]
    },
    {
     "name": "stderr",
     "output_type": "stream",
     "text": [
      "Procesando CARA: 100%|██████████| 92/92 [00:00<00:00, 109.14it/s]\n"
     ]
    },
    {
     "name": "stdout",
     "output_type": "stream",
     "text": [
      "✅ Video generado correctamente en: C:\\Users\\Invitado\\Documents\\facial_expression_detector\\data_procesada\\data\\SUJETO 2\\senas_procesadas\\Ladron\\muestra_4\\ladron_muestra_4.mp4\n"
     ]
    },
    {
     "name": "stderr",
     "output_type": "stream",
     "text": [
      "Procesando CARA: 100%|██████████| 65/65 [00:00<00:00, 107.87it/s]\n"
     ]
    },
    {
     "name": "stdout",
     "output_type": "stream",
     "text": [
      "✅ Video generado correctamente en: C:\\Users\\Invitado\\Documents\\facial_expression_detector\\data_procesada\\data\\SUJETO 2\\senas_procesadas\\Ladron\\muestra_5\\ladron_muestra_5.mp4\n"
     ]
    },
    {
     "name": "stderr",
     "output_type": "stream",
     "text": [
      "Procesando CARA: 100%|██████████| 90/90 [00:00<00:00, 106.65it/s]\n"
     ]
    },
    {
     "name": "stdout",
     "output_type": "stream",
     "text": [
      "✅ Video generado correctamente en: C:\\Users\\Invitado\\Documents\\facial_expression_detector\\data_procesada\\data\\SUJETO 2\\senas_procesadas\\Ladron\\muestra_6\\ladron_muestra_6.mp4\n",
      "\n",
      "🔍 Procesando expresión: Llorar\n"
     ]
    },
    {
     "name": "stderr",
     "output_type": "stream",
     "text": [
      "Procesando CARA: 100%|██████████| 58/58 [00:00<00:00, 113.95it/s]\n"
     ]
    },
    {
     "name": "stdout",
     "output_type": "stream",
     "text": [
      "✅ Video generado correctamente en: C:\\Users\\Invitado\\Documents\\facial_expression_detector\\data_procesada\\data\\SUJETO 2\\senas_procesadas\\Llorar\\muestra_1\\llorar_muestra_1.mp4\n"
     ]
    },
    {
     "name": "stderr",
     "output_type": "stream",
     "text": [
      "Procesando CARA: 100%|██████████| 81/81 [00:00<00:00, 112.99it/s]\n"
     ]
    },
    {
     "name": "stdout",
     "output_type": "stream",
     "text": [
      "✅ Video generado correctamente en: C:\\Users\\Invitado\\Documents\\facial_expression_detector\\data_procesada\\data\\SUJETO 2\\senas_procesadas\\Llorar\\muestra_2\\llorar_muestra_2.mp4\n"
     ]
    },
    {
     "name": "stderr",
     "output_type": "stream",
     "text": [
      "Procesando CARA: 100%|██████████| 94/94 [00:00<00:00, 111.06it/s]\n"
     ]
    },
    {
     "name": "stdout",
     "output_type": "stream",
     "text": [
      "✅ Video generado correctamente en: C:\\Users\\Invitado\\Documents\\facial_expression_detector\\data_procesada\\data\\SUJETO 2\\senas_procesadas\\Llorar\\muestra_3\\llorar_muestra_3.mp4\n"
     ]
    },
    {
     "name": "stderr",
     "output_type": "stream",
     "text": [
      "Procesando CARA: 100%|██████████| 115/115 [00:01<00:00, 109.48it/s]\n"
     ]
    },
    {
     "name": "stdout",
     "output_type": "stream",
     "text": [
      "✅ Video generado correctamente en: C:\\Users\\Invitado\\Documents\\facial_expression_detector\\data_procesada\\data\\SUJETO 2\\senas_procesadas\\Llorar\\muestra_4\\llorar_muestra_4.mp4\n"
     ]
    },
    {
     "name": "stderr",
     "output_type": "stream",
     "text": [
      "Procesando CARA: 100%|██████████| 152/152 [00:01<00:00, 111.27it/s]\n"
     ]
    },
    {
     "name": "stdout",
     "output_type": "stream",
     "text": [
      "✅ Video generado correctamente en: C:\\Users\\Invitado\\Documents\\facial_expression_detector\\data_procesada\\data\\SUJETO 2\\senas_procesadas\\Llorar\\muestra_5\\llorar_muestra_5.mp4\n"
     ]
    },
    {
     "name": "stderr",
     "output_type": "stream",
     "text": [
      "Procesando CARA: 100%|██████████| 125/125 [00:01<00:00, 109.45it/s]\n"
     ]
    },
    {
     "name": "stdout",
     "output_type": "stream",
     "text": [
      "✅ Video generado correctamente en: C:\\Users\\Invitado\\Documents\\facial_expression_detector\\data_procesada\\data\\SUJETO 2\\senas_procesadas\\Llorar\\muestra_6\\llorar_muestra_6.mp4\n",
      "\n",
      "🔍 Procesando expresión: Molesto\n"
     ]
    },
    {
     "name": "stderr",
     "output_type": "stream",
     "text": [
      "Procesando CARA: 100%|██████████| 54/54 [00:00<00:00, 104.95it/s]\n"
     ]
    },
    {
     "name": "stdout",
     "output_type": "stream",
     "text": [
      "✅ Video generado correctamente en: C:\\Users\\Invitado\\Documents\\facial_expression_detector\\data_procesada\\data\\SUJETO 2\\senas_procesadas\\Molesto\\muestra_1\\molesto_muestra_1.mp4\n"
     ]
    },
    {
     "name": "stderr",
     "output_type": "stream",
     "text": [
      "Procesando CARA: 100%|██████████| 86/86 [00:00<00:00, 114.29it/s]\n"
     ]
    },
    {
     "name": "stdout",
     "output_type": "stream",
     "text": [
      "✅ Video generado correctamente en: C:\\Users\\Invitado\\Documents\\facial_expression_detector\\data_procesada\\data\\SUJETO 2\\senas_procesadas\\Molesto\\muestra_2\\molesto_muestra_2.mp4\n"
     ]
    },
    {
     "name": "stderr",
     "output_type": "stream",
     "text": [
      "Procesando CARA: 100%|██████████| 91/91 [00:00<00:00, 113.71it/s]\n"
     ]
    },
    {
     "name": "stdout",
     "output_type": "stream",
     "text": [
      "✅ Video generado correctamente en: C:\\Users\\Invitado\\Documents\\facial_expression_detector\\data_procesada\\data\\SUJETO 2\\senas_procesadas\\Molesto\\muestra_3\\molesto_muestra_3.mp4\n"
     ]
    },
    {
     "name": "stderr",
     "output_type": "stream",
     "text": [
      "Procesando CARA: 100%|██████████| 85/85 [00:00<00:00, 114.53it/s]\n"
     ]
    },
    {
     "name": "stdout",
     "output_type": "stream",
     "text": [
      "✅ Video generado correctamente en: C:\\Users\\Invitado\\Documents\\facial_expression_detector\\data_procesada\\data\\SUJETO 2\\senas_procesadas\\Molesto\\muestra_4\\molesto_muestra_4.mp4\n"
     ]
    },
    {
     "name": "stderr",
     "output_type": "stream",
     "text": [
      "Procesando CARA: 100%|██████████| 88/88 [00:00<00:00, 105.83it/s]\n"
     ]
    },
    {
     "name": "stdout",
     "output_type": "stream",
     "text": [
      "✅ Video generado correctamente en: C:\\Users\\Invitado\\Documents\\facial_expression_detector\\data_procesada\\data\\SUJETO 2\\senas_procesadas\\Molesto\\muestra_5\\molesto_muestra_5.mp4\n"
     ]
    },
    {
     "name": "stderr",
     "output_type": "stream",
     "text": [
      "Procesando CARA: 100%|██████████| 108/108 [00:00<00:00, 114.23it/s]\n"
     ]
    },
    {
     "name": "stdout",
     "output_type": "stream",
     "text": [
      "✅ Video generado correctamente en: C:\\Users\\Invitado\\Documents\\facial_expression_detector\\data_procesada\\data\\SUJETO 2\\senas_procesadas\\Molesto\\muestra_6\\molesto_muestra_6.mp4\n",
      "\n",
      "🔍 Procesando expresión: No\n"
     ]
    },
    {
     "name": "stderr",
     "output_type": "stream",
     "text": [
      "Procesando CARA: 100%|██████████| 108/108 [00:00<00:00, 114.30it/s]\n"
     ]
    },
    {
     "name": "stdout",
     "output_type": "stream",
     "text": [
      "✅ Video generado correctamente en: C:\\Users\\Invitado\\Documents\\facial_expression_detector\\data_procesada\\data\\SUJETO 2\\senas_procesadas\\No\\muestra_1\\no_muestra_1.mp4\n"
     ]
    },
    {
     "name": "stderr",
     "output_type": "stream",
     "text": [
      "Procesando CARA: 100%|██████████| 79/79 [00:00<00:00, 110.83it/s]\n"
     ]
    },
    {
     "name": "stdout",
     "output_type": "stream",
     "text": [
      "✅ Video generado correctamente en: C:\\Users\\Invitado\\Documents\\facial_expression_detector\\data_procesada\\data\\SUJETO 2\\senas_procesadas\\No\\muestra_2\\no_muestra_2.mp4\n"
     ]
    },
    {
     "name": "stderr",
     "output_type": "stream",
     "text": [
      "Procesando CARA: 100%|██████████| 74/74 [00:00<00:00, 105.72it/s]\n"
     ]
    },
    {
     "name": "stdout",
     "output_type": "stream",
     "text": [
      "✅ Video generado correctamente en: C:\\Users\\Invitado\\Documents\\facial_expression_detector\\data_procesada\\data\\SUJETO 2\\senas_procesadas\\No\\muestra_3\\no_muestra_3.mp4\n"
     ]
    },
    {
     "name": "stderr",
     "output_type": "stream",
     "text": [
      "Procesando CARA: 100%|██████████| 68/68 [00:00<00:00, 112.85it/s]\n"
     ]
    },
    {
     "name": "stdout",
     "output_type": "stream",
     "text": [
      "✅ Video generado correctamente en: C:\\Users\\Invitado\\Documents\\facial_expression_detector\\data_procesada\\data\\SUJETO 2\\senas_procesadas\\No\\muestra_4\\no_muestra_4.mp4\n"
     ]
    },
    {
     "name": "stderr",
     "output_type": "stream",
     "text": [
      "Procesando CARA: 100%|██████████| 75/75 [00:00<00:00, 113.33it/s]\n"
     ]
    },
    {
     "name": "stdout",
     "output_type": "stream",
     "text": [
      "✅ Video generado correctamente en: C:\\Users\\Invitado\\Documents\\facial_expression_detector\\data_procesada\\data\\SUJETO 2\\senas_procesadas\\No\\muestra_5\\no_muestra_5.mp4\n"
     ]
    },
    {
     "name": "stderr",
     "output_type": "stream",
     "text": [
      "Procesando CARA: 100%|██████████| 74/74 [00:00<00:00, 105.08it/s]\n"
     ]
    },
    {
     "name": "stdout",
     "output_type": "stream",
     "text": [
      "✅ Video generado correctamente en: C:\\Users\\Invitado\\Documents\\facial_expression_detector\\data_procesada\\data\\SUJETO 2\\senas_procesadas\\No\\muestra_6\\no_muestra_6.mp4\n",
      "\n",
      "🔍 Procesando expresión: No se\n"
     ]
    },
    {
     "name": "stderr",
     "output_type": "stream",
     "text": [
      "Procesando CARA: 100%|██████████| 63/63 [00:00<00:00, 110.52it/s]\n"
     ]
    },
    {
     "name": "stdout",
     "output_type": "stream",
     "text": [
      "✅ Video generado correctamente en: C:\\Users\\Invitado\\Documents\\facial_expression_detector\\data_procesada\\data\\SUJETO 2\\senas_procesadas\\No se\\muestra_1\\no_se_muestra_1.mp4\n"
     ]
    },
    {
     "name": "stderr",
     "output_type": "stream",
     "text": [
      "Procesando CARA: 100%|██████████| 78/78 [00:00<00:00, 112.87it/s]\n"
     ]
    },
    {
     "name": "stdout",
     "output_type": "stream",
     "text": [
      "✅ Video generado correctamente en: C:\\Users\\Invitado\\Documents\\facial_expression_detector\\data_procesada\\data\\SUJETO 2\\senas_procesadas\\No se\\muestra_2\\no_se_muestra_2.mp4\n"
     ]
    },
    {
     "name": "stderr",
     "output_type": "stream",
     "text": [
      "Procesando CARA: 100%|██████████| 83/83 [00:00<00:00, 109.24it/s]\n"
     ]
    },
    {
     "name": "stdout",
     "output_type": "stream",
     "text": [
      "✅ Video generado correctamente en: C:\\Users\\Invitado\\Documents\\facial_expression_detector\\data_procesada\\data\\SUJETO 2\\senas_procesadas\\No se\\muestra_3\\no_se_muestra_3.mp4\n"
     ]
    },
    {
     "name": "stderr",
     "output_type": "stream",
     "text": [
      "Procesando CARA: 100%|██████████| 95/95 [00:00<00:00, 113.70it/s]\n"
     ]
    },
    {
     "name": "stdout",
     "output_type": "stream",
     "text": [
      "✅ Video generado correctamente en: C:\\Users\\Invitado\\Documents\\facial_expression_detector\\data_procesada\\data\\SUJETO 2\\senas_procesadas\\No se\\muestra_4\\no_se_muestra_4.mp4\n"
     ]
    },
    {
     "name": "stderr",
     "output_type": "stream",
     "text": [
      "Procesando CARA: 100%|██████████| 75/75 [00:00<00:00, 115.55it/s]\n"
     ]
    },
    {
     "name": "stdout",
     "output_type": "stream",
     "text": [
      "✅ Video generado correctamente en: C:\\Users\\Invitado\\Documents\\facial_expression_detector\\data_procesada\\data\\SUJETO 2\\senas_procesadas\\No se\\muestra_5\\no_se_muestra_5.mp4\n"
     ]
    },
    {
     "name": "stderr",
     "output_type": "stream",
     "text": [
      "Procesando CARA: 100%|██████████| 104/104 [00:00<00:00, 109.69it/s]\n"
     ]
    },
    {
     "name": "stdout",
     "output_type": "stream",
     "text": [
      "✅ Video generado correctamente en: C:\\Users\\Invitado\\Documents\\facial_expression_detector\\data_procesada\\data\\SUJETO 2\\senas_procesadas\\No se\\muestra_6\\no_se_muestra_6.mp4\n",
      "\n",
      "🔍 Procesando expresión: Si\n"
     ]
    },
    {
     "name": "stderr",
     "output_type": "stream",
     "text": [
      "Procesando CARA: 100%|██████████| 80/80 [00:00<00:00, 109.79it/s]\n"
     ]
    },
    {
     "name": "stdout",
     "output_type": "stream",
     "text": [
      "✅ Video generado correctamente en: C:\\Users\\Invitado\\Documents\\facial_expression_detector\\data_procesada\\data\\SUJETO 2\\senas_procesadas\\Si\\muestra_1\\si_muestra_1.mp4\n"
     ]
    },
    {
     "name": "stderr",
     "output_type": "stream",
     "text": [
      "Procesando CARA: 100%|██████████| 82/82 [00:00<00:00, 112.63it/s]\n"
     ]
    },
    {
     "name": "stdout",
     "output_type": "stream",
     "text": [
      "✅ Video generado correctamente en: C:\\Users\\Invitado\\Documents\\facial_expression_detector\\data_procesada\\data\\SUJETO 2\\senas_procesadas\\Si\\muestra_2\\si_muestra_2.mp4\n"
     ]
    },
    {
     "name": "stderr",
     "output_type": "stream",
     "text": [
      "Procesando CARA: 100%|██████████| 85/85 [00:00<00:00, 108.28it/s]\n"
     ]
    },
    {
     "name": "stdout",
     "output_type": "stream",
     "text": [
      "✅ Video generado correctamente en: C:\\Users\\Invitado\\Documents\\facial_expression_detector\\data_procesada\\data\\SUJETO 2\\senas_procesadas\\Si\\muestra_3\\si_muestra_3.mp4\n"
     ]
    },
    {
     "name": "stderr",
     "output_type": "stream",
     "text": [
      "Procesando CARA: 100%|██████████| 69/69 [00:00<00:00, 108.26it/s]\n"
     ]
    },
    {
     "name": "stdout",
     "output_type": "stream",
     "text": [
      "✅ Video generado correctamente en: C:\\Users\\Invitado\\Documents\\facial_expression_detector\\data_procesada\\data\\SUJETO 2\\senas_procesadas\\Si\\muestra_4\\si_muestra_4.mp4\n"
     ]
    },
    {
     "name": "stderr",
     "output_type": "stream",
     "text": [
      "Procesando CARA: 100%|██████████| 83/83 [00:00<00:00, 113.55it/s]\n"
     ]
    },
    {
     "name": "stdout",
     "output_type": "stream",
     "text": [
      "✅ Video generado correctamente en: C:\\Users\\Invitado\\Documents\\facial_expression_detector\\data_procesada\\data\\SUJETO 2\\senas_procesadas\\Si\\muestra_5\\si_muestra_5.mp4\n"
     ]
    },
    {
     "name": "stderr",
     "output_type": "stream",
     "text": [
      "Procesando CARA: 100%|██████████| 97/97 [00:00<00:00, 111.52it/s]\n"
     ]
    },
    {
     "name": "stdout",
     "output_type": "stream",
     "text": [
      "✅ Video generado correctamente en: C:\\Users\\Invitado\\Documents\\facial_expression_detector\\data_procesada\\data\\SUJETO 2\\senas_procesadas\\Si\\muestra_6\\si_muestra_6.mp4\n",
      "\n",
      "🔍 Procesando expresión: Sorpresa\n"
     ]
    },
    {
     "name": "stderr",
     "output_type": "stream",
     "text": [
      "Procesando CARA: 100%|██████████| 57/57 [00:00<00:00, 111.51it/s]\n"
     ]
    },
    {
     "name": "stdout",
     "output_type": "stream",
     "text": [
      "✅ Video generado correctamente en: C:\\Users\\Invitado\\Documents\\facial_expression_detector\\data_procesada\\data\\SUJETO 2\\senas_procesadas\\Sorpresa\\muestra_1\\sorpresa_muestra_1.mp4\n"
     ]
    },
    {
     "name": "stderr",
     "output_type": "stream",
     "text": [
      "Procesando CARA: 100%|██████████| 75/75 [00:00<00:00, 111.46it/s]\n"
     ]
    },
    {
     "name": "stdout",
     "output_type": "stream",
     "text": [
      "✅ Video generado correctamente en: C:\\Users\\Invitado\\Documents\\facial_expression_detector\\data_procesada\\data\\SUJETO 2\\senas_procesadas\\Sorpresa\\muestra_2\\sorpresa_muestra_2.mp4\n"
     ]
    },
    {
     "name": "stderr",
     "output_type": "stream",
     "text": [
      "Procesando CARA: 100%|██████████| 91/91 [00:00<00:00, 110.45it/s]\n"
     ]
    },
    {
     "name": "stdout",
     "output_type": "stream",
     "text": [
      "✅ Video generado correctamente en: C:\\Users\\Invitado\\Documents\\facial_expression_detector\\data_procesada\\data\\SUJETO 2\\senas_procesadas\\Sorpresa\\muestra_3\\sorpresa_muestra_3.mp4\n"
     ]
    },
    {
     "name": "stderr",
     "output_type": "stream",
     "text": [
      "Procesando CARA: 100%|██████████| 83/83 [00:00<00:00, 113.01it/s]\n"
     ]
    },
    {
     "name": "stdout",
     "output_type": "stream",
     "text": [
      "✅ Video generado correctamente en: C:\\Users\\Invitado\\Documents\\facial_expression_detector\\data_procesada\\data\\SUJETO 2\\senas_procesadas\\Sorpresa\\muestra_4\\sorpresa_muestra_4.mp4\n"
     ]
    },
    {
     "name": "stderr",
     "output_type": "stream",
     "text": [
      "Procesando CARA: 100%|██████████| 25/25 [00:00<00:00, 111.50it/s]\n"
     ]
    },
    {
     "name": "stdout",
     "output_type": "stream",
     "text": [
      "✅ Video generado correctamente en: C:\\Users\\Invitado\\Documents\\facial_expression_detector\\data_procesada\\data\\SUJETO 2\\senas_procesadas\\Sorpresa\\muestra_5\\sorpresa_muestra_5.mp4\n"
     ]
    },
    {
     "name": "stderr",
     "output_type": "stream",
     "text": [
      "Procesando CARA: 100%|██████████| 94/94 [00:00<00:00, 111.17it/s]\n"
     ]
    },
    {
     "name": "stdout",
     "output_type": "stream",
     "text": [
      "✅ Video generado correctamente en: C:\\Users\\Invitado\\Documents\\facial_expression_detector\\data_procesada\\data\\SUJETO 2\\senas_procesadas\\Sorpresa\\muestra_6\\sorpresa_muestra_6.mp4\n",
      "\n",
      "🔍 Procesando expresión: Triste\n"
     ]
    },
    {
     "name": "stderr",
     "output_type": "stream",
     "text": [
      "Procesando CARA: 100%|██████████| 110/110 [00:00<00:00, 112.03it/s]\n"
     ]
    },
    {
     "name": "stdout",
     "output_type": "stream",
     "text": [
      "✅ Video generado correctamente en: C:\\Users\\Invitado\\Documents\\facial_expression_detector\\data_procesada\\data\\SUJETO 2\\senas_procesadas\\Triste\\muestra_1\\triste_muestra_1.mp4\n"
     ]
    },
    {
     "name": "stderr",
     "output_type": "stream",
     "text": [
      "Procesando CARA: 100%|██████████| 89/89 [00:00<00:00, 109.04it/s]\n"
     ]
    },
    {
     "name": "stdout",
     "output_type": "stream",
     "text": [
      "✅ Video generado correctamente en: C:\\Users\\Invitado\\Documents\\facial_expression_detector\\data_procesada\\data\\SUJETO 2\\senas_procesadas\\Triste\\muestra_2\\triste_muestra_2.mp4\n"
     ]
    },
    {
     "name": "stderr",
     "output_type": "stream",
     "text": [
      "Procesando CARA: 100%|██████████| 106/106 [00:00<00:00, 109.40it/s]\n"
     ]
    },
    {
     "name": "stdout",
     "output_type": "stream",
     "text": [
      "✅ Video generado correctamente en: C:\\Users\\Invitado\\Documents\\facial_expression_detector\\data_procesada\\data\\SUJETO 2\\senas_procesadas\\Triste\\muestra_3\\triste_muestra_3.mp4\n"
     ]
    },
    {
     "name": "stderr",
     "output_type": "stream",
     "text": [
      "Procesando CARA: 100%|██████████| 106/106 [00:01<00:00, 105.33it/s]\n"
     ]
    },
    {
     "name": "stdout",
     "output_type": "stream",
     "text": [
      "✅ Video generado correctamente en: C:\\Users\\Invitado\\Documents\\facial_expression_detector\\data_procesada\\data\\SUJETO 2\\senas_procesadas\\Triste\\muestra_4\\triste_muestra_4.mp4\n"
     ]
    },
    {
     "name": "stderr",
     "output_type": "stream",
     "text": [
      "Procesando CARA: 100%|██████████| 69/69 [00:00<00:00, 127.79it/s]\n"
     ]
    },
    {
     "name": "stdout",
     "output_type": "stream",
     "text": [
      "✅ Video generado correctamente en: C:\\Users\\Invitado\\Documents\\facial_expression_detector\\data_procesada\\data\\SUJETO 2\\senas_procesadas\\Triste\\muestra_5\\triste_muestra_5.mp4\n"
     ]
    },
    {
     "name": "stderr",
     "output_type": "stream",
     "text": [
      "Procesando CARA: 100%|██████████| 84/84 [00:00<00:00, 126.52it/s]\n"
     ]
    },
    {
     "name": "stdout",
     "output_type": "stream",
     "text": [
      "✅ Video generado correctamente en: C:\\Users\\Invitado\\Documents\\facial_expression_detector\\data_procesada\\data\\SUJETO 2\\senas_procesadas\\Triste\\muestra_6\\triste_muestra_6.mp4\n",
      "\n",
      "✅ Proceso completado. Videos generados: 83\n",
      "📊 Videos generados (172):\n",
      "\n",
      "1. A ver/muestra_1/a_ver_muestra_1.mp4\n",
      "   - Tamaño: 0.70 MB\n",
      "   - Resolución: 640x640\n",
      "   - FPS: 30.00\n",
      "   - Frames: 69\n",
      "   - Duración: 2.30 segundos\n",
      "\n",
      "2. A ver/muestra_1/video_a_ver_muestra_1.mp4\n",
      "   - Tamaño: 0.40 MB\n",
      "   - Resolución: 640x640\n",
      "   - FPS: 30.00\n",
      "   - Frames: 69\n",
      "   - Duración: 2.30 segundos\n",
      "\n",
      "3. A ver/muestra_1/video_muestra_1_rgb.mp4\n",
      "   - Tamaño: 0.70 MB\n",
      "   - Resolución: 640x640\n",
      "   - FPS: 30.00\n",
      "   - Frames: 69\n",
      "   - Duración: 2.30 segundos\n",
      "\n",
      "4. A ver/muestra_2/a_ver_muestra_2.mp4\n",
      "   - Tamaño: 0.72 MB\n",
      "   - Resolución: 640x640\n",
      "   - FPS: 30.00\n",
      "   - Frames: 70\n",
      "   - Duración: 2.33 segundos\n",
      "\n",
      "5. A ver/muestra_2/video_a_ver_muestra_2.mp4\n",
      "   - Tamaño: 0.42 MB\n",
      "   - Resolución: 640x640\n",
      "   - FPS: 30.00\n",
      "   - Frames: 70\n",
      "   - Duración: 2.33 segundos\n",
      "\n",
      "6. A ver/muestra_3/a_ver_muestra_3.mp4\n",
      "   - Tamaño: 0.62 MB\n",
      "   - Resolución: 640x640\n",
      "   - FPS: 30.00\n",
      "   - Frames: 62\n",
      "   - Duración: 2.07 segundos\n",
      "\n",
      "7. A ver/muestra_3/video_a_ver_muestra_3.mp4\n",
      "   - Tamaño: 0.36 MB\n",
      "   - Resolución: 640x640\n",
      "   - FPS: 30.00\n",
      "   - Frames: 62\n",
      "   - Duración: 2.07 segundos\n",
      "\n",
      "8. A ver/muestra_3/video_muestra_3_rgb.mp4\n",
      "   - Tamaño: 0.62 MB\n",
      "   - Resolución: 640x640\n",
      "   - FPS: 30.00\n",
      "   - Frames: 62\n",
      "   - Duración: 2.07 segundos\n",
      "\n",
      "9. A ver/muestra_4/a_ver_muestra_4.mp4\n",
      "   - Tamaño: 0.72 MB\n",
      "   - Resolución: 640x640\n",
      "   - FPS: 30.00\n",
      "   - Frames: 71\n",
      "   - Duración: 2.37 segundos\n",
      "\n",
      "10. A ver/muestra_4/video_a_ver_muestra_4.mp4\n",
      "   - Tamaño: 0.43 MB\n",
      "   - Resolución: 640x640\n",
      "   - FPS: 30.00\n",
      "   - Frames: 71\n",
      "   - Duración: 2.37 segundos\n",
      "\n",
      "11. A ver/muestra_4/video_muestra_4_rgb.mp4\n",
      "   - Tamaño: 0.72 MB\n",
      "   - Resolución: 640x640\n",
      "   - FPS: 30.00\n",
      "   - Frames: 71\n",
      "   - Duración: 2.37 segundos\n",
      "\n",
      "12. A ver/muestra_5/a_ver_muestra_5.mp4\n",
      "   - Tamaño: 0.83 MB\n",
      "   - Resolución: 640x640\n",
      "   - FPS: 30.00\n",
      "   - Frames: 80\n",
      "   - Duración: 2.67 segundos\n",
      "\n",
      "13. A ver/muestra_5/video_a_ver_muestra_5.mp4\n",
      "   - Tamaño: 0.50 MB\n",
      "   - Resolución: 640x640\n",
      "   - FPS: 30.00\n",
      "   - Frames: 80\n",
      "   - Duración: 2.67 segundos\n",
      "\n",
      "14. A ver/muestra_5/video_muestra_5_rgb.mp4\n",
      "   - Tamaño: 0.83 MB\n",
      "   - Resolución: 640x640\n",
      "   - FPS: 30.00\n",
      "   - Frames: 80\n",
      "   - Duración: 2.67 segundos\n",
      "\n",
      "15. A ver/muestra_6/a_ver_muestra_6.mp4\n",
      "   - Tamaño: 0.69 MB\n",
      "   - Resolución: 640x640\n",
      "   - FPS: 30.00\n",
      "   - Frames: 72\n",
      "   - Duración: 2.40 segundos\n",
      "\n",
      "16. A ver/muestra_6/video_a_ver_muestra_6.mp4\n",
      "   - Tamaño: 0.42 MB\n",
      "   - Resolución: 640x640\n",
      "   - FPS: 30.00\n",
      "   - Frames: 72\n",
      "   - Duración: 2.40 segundos\n",
      "\n",
      "17. A ver/muestra_6/video_muestra_6_rgb.mp4\n",
      "   - Tamaño: 0.69 MB\n",
      "   - Resolución: 640x640\n",
      "   - FPS: 30.00\n",
      "   - Frames: 72\n",
      "   - Duración: 2.40 segundos\n",
      "\n",
      "18. Aburrido/muestra_1/aburrido_muestra_1.mp4\n",
      "   - Tamaño: 0.69 MB\n",
      "   - Resolución: 640x640\n",
      "   - FPS: 30.00\n",
      "   - Frames: 68\n",
      "   - Duración: 2.27 segundos\n",
      "\n",
      "19. Aburrido/muestra_1/video_aburrido_muestra_1.mp4\n",
      "   - Tamaño: 0.36 MB\n",
      "   - Resolución: 640x640\n",
      "   - FPS: 30.00\n",
      "   - Frames: 68\n",
      "   - Duración: 2.27 segundos\n",
      "\n",
      "20. Aburrido/muestra_2/aburrido_muestra_2.mp4\n",
      "   - Tamaño: 0.81 MB\n",
      "   - Resolución: 640x640\n",
      "   - FPS: 30.00\n",
      "   - Frames: 87\n",
      "   - Duración: 2.90 segundos\n",
      "\n",
      "21. Aburrido/muestra_2/video_aburrido_muestra_2.mp4\n",
      "   - Tamaño: 0.46 MB\n",
      "   - Resolución: 640x640\n",
      "   - FPS: 30.00\n",
      "   - Frames: 87\n",
      "   - Duración: 2.90 segundos\n",
      "\n",
      "22. Aburrido/muestra_3/aburrido_muestra_3.mp4\n",
      "   - Tamaño: 0.76 MB\n",
      "   - Resolución: 640x640\n",
      "   - FPS: 30.00\n",
      "   - Frames: 82\n",
      "   - Duración: 2.73 segundos\n",
      "\n",
      "23. Aburrido/muestra_3/video_aburrido_muestra_3.mp4\n",
      "   - Tamaño: 0.42 MB\n",
      "   - Resolución: 640x640\n",
      "   - FPS: 30.00\n",
      "   - Frames: 82\n",
      "   - Duración: 2.73 segundos\n",
      "\n",
      "24. Aburrido/muestra_4/aburrido_muestra_4.mp4\n",
      "   - Tamaño: 0.99 MB\n",
      "   - Resolución: 640x640\n",
      "   - FPS: 30.00\n",
      "   - Frames: 106\n",
      "   - Duración: 3.53 segundos\n",
      "\n",
      "25. Aburrido/muestra_4/video_aburrido_muestra_4.mp4\n",
      "   - Tamaño: 0.54 MB\n",
      "   - Resolución: 640x640\n",
      "   - FPS: 30.00\n",
      "   - Frames: 106\n",
      "   - Duración: 3.53 segundos\n",
      "\n",
      "26. Aburrido/muestra_5/aburrido_muestra_5.mp4\n",
      "   - Tamaño: 1.27 MB\n",
      "   - Resolución: 640x640\n",
      "   - FPS: 30.00\n",
      "   - Frames: 133\n",
      "   - Duración: 4.43 segundos\n",
      "\n",
      "27. Aburrido/muestra_5/video_aburrido_muestra_5.mp4\n",
      "   - Tamaño: 0.67 MB\n",
      "   - Resolución: 640x640\n",
      "   - FPS: 30.00\n",
      "   - Frames: 133\n",
      "   - Duración: 4.43 segundos\n",
      "\n",
      "28. Cansado/muestra_1/cansado_muestra_1.mp4\n",
      "   - Tamaño: 0.82 MB\n",
      "   - Resolución: 640x640\n",
      "   - FPS: 30.00\n",
      "   - Frames: 86\n",
      "   - Duración: 2.87 segundos\n",
      "\n",
      "29. Cansado/muestra_1/video_cansado_muestra_1.mp4\n",
      "   - Tamaño: 0.45 MB\n",
      "   - Resolución: 640x640\n",
      "   - FPS: 30.00\n",
      "   - Frames: 86\n",
      "   - Duración: 2.87 segundos\n",
      "\n",
      "30. Cansado/muestra_2/cansado_muestra_2.mp4\n",
      "   - Tamaño: 0.95 MB\n",
      "   - Resolución: 640x640\n",
      "   - FPS: 30.00\n",
      "   - Frames: 102\n",
      "   - Duración: 3.40 segundos\n",
      "\n",
      "31. Cansado/muestra_2/video_cansado_muestra_2.mp4\n",
      "   - Tamaño: 0.52 MB\n",
      "   - Resolución: 640x640\n",
      "   - FPS: 30.00\n",
      "   - Frames: 102\n",
      "   - Duración: 3.40 segundos\n",
      "\n",
      "32. Cansado/muestra_3/cansado_muestra_3.mp4\n",
      "   - Tamaño: 0.76 MB\n",
      "   - Resolución: 640x640\n",
      "   - FPS: 30.00\n",
      "   - Frames: 75\n",
      "   - Duración: 2.50 segundos\n",
      "\n",
      "33. Cansado/muestra_3/video_cansado_muestra_3.mp4\n",
      "   - Tamaño: 0.41 MB\n",
      "   - Resolución: 640x640\n",
      "   - FPS: 30.00\n",
      "   - Frames: 75\n",
      "   - Duración: 2.50 segundos\n",
      "\n",
      "34. Cansado/muestra_4/cansado_muestra_4.mp4\n",
      "   - Tamaño: 0.70 MB\n",
      "   - Resolución: 640x640\n",
      "   - FPS: 30.00\n",
      "   - Frames: 75\n",
      "   - Duración: 2.50 segundos\n",
      "\n",
      "35. Cansado/muestra_4/video_cansado_muestra_4.mp4\n",
      "   - Tamaño: 0.39 MB\n",
      "   - Resolución: 640x640\n",
      "   - FPS: 30.00\n",
      "   - Frames: 75\n",
      "   - Duración: 2.50 segundos\n",
      "\n",
      "36. Cansado/muestra_5/cansado_muestra_5.mp4\n",
      "   - Tamaño: 0.23 MB\n",
      "   - Resolución: 640x640\n",
      "   - FPS: 30.00\n",
      "   - Frames: 19\n",
      "   - Duración: 0.63 segundos\n",
      "\n",
      "37. Cansado/muestra_5/video_cansado_muestra_5.mp4\n",
      "   - Tamaño: 0.13 MB\n",
      "   - Resolución: 640x640\n",
      "   - FPS: 30.00\n",
      "   - Frames: 19\n",
      "   - Duración: 0.63 segundos\n",
      "\n",
      "38. Cansado/muestra_6/cansado_muestra_6.mp4\n",
      "   - Tamaño: 0.96 MB\n",
      "   - Resolución: 640x640\n",
      "   - FPS: 30.00\n",
      "   - Frames: 94\n",
      "   - Duración: 3.13 segundos\n",
      "\n",
      "39. Cansado/muestra_6/video_cansado_muestra_6.mp4\n",
      "   - Tamaño: 0.50 MB\n",
      "   - Resolución: 640x640\n",
      "   - FPS: 30.00\n",
      "   - Frames: 94\n",
      "   - Duración: 3.13 segundos\n",
      "\n",
      "40. Disgusto/muestra_1/disgusto_muestra_1.mp4\n",
      "   - Tamaño: 0.61 MB\n",
      "   - Resolución: 640x640\n",
      "   - FPS: 30.00\n",
      "   - Frames: 65\n",
      "   - Duración: 2.17 segundos\n",
      "\n",
      "41. Disgusto/muestra_1/video_disgusto_muestra_1.mp4\n",
      "   - Tamaño: 0.34 MB\n",
      "   - Resolución: 640x640\n",
      "   - FPS: 30.00\n",
      "   - Frames: 65\n",
      "   - Duración: 2.17 segundos\n",
      "\n",
      "42. Disgusto/muestra_2/disgusto_muestra_2.mp4\n",
      "   - Tamaño: 0.75 MB\n",
      "   - Resolución: 640x640\n",
      "   - FPS: 30.00\n",
      "   - Frames: 73\n",
      "   - Duración: 2.43 segundos\n",
      "\n",
      "43. Disgusto/muestra_2/video_disgusto_muestra_2.mp4\n",
      "   - Tamaño: 0.42 MB\n",
      "   - Resolución: 640x640\n",
      "   - FPS: 30.00\n",
      "   - Frames: 73\n",
      "   - Duración: 2.43 segundos\n",
      "\n",
      "44. Disgusto/muestra_3/disgusto_muestra_3.mp4\n",
      "   - Tamaño: 0.66 MB\n",
      "   - Resolución: 640x640\n",
      "   - FPS: 30.00\n",
      "   - Frames: 69\n",
      "   - Duración: 2.30 segundos\n",
      "\n",
      "45. Disgusto/muestra_3/video_disgusto_muestra_3.mp4\n",
      "   - Tamaño: 0.38 MB\n",
      "   - Resolución: 640x640\n",
      "   - FPS: 30.00\n",
      "   - Frames: 69\n",
      "   - Duración: 2.30 segundos\n",
      "\n",
      "46. Disgusto/muestra_4/disgusto_muestra_4.mp4\n",
      "   - Tamaño: 0.74 MB\n",
      "   - Resolución: 640x640\n",
      "   - FPS: 30.00\n",
      "   - Frames: 72\n",
      "   - Duración: 2.40 segundos\n",
      "\n",
      "47. Disgusto/muestra_4/video_disgusto_muestra_4.mp4\n",
      "   - Tamaño: 0.40 MB\n",
      "   - Resolución: 640x640\n",
      "   - FPS: 30.00\n",
      "   - Frames: 72\n",
      "   - Duración: 2.40 segundos\n",
      "\n",
      "48. Disgusto/muestra_5/disgusto_muestra_5.mp4\n",
      "   - Tamaño: 0.85 MB\n",
      "   - Resolución: 640x640\n",
      "   - FPS: 30.00\n",
      "   - Frames: 86\n",
      "   - Duración: 2.87 segundos\n",
      "\n",
      "49. Disgusto/muestra_5/video_disgusto_muestra_5.mp4\n",
      "   - Tamaño: 0.48 MB\n",
      "   - Resolución: 640x640\n",
      "   - FPS: 30.00\n",
      "   - Frames: 86\n",
      "   - Duración: 2.87 segundos\n",
      "\n",
      "50. Disgusto/muestra_6/disgusto_muestra_6.mp4\n",
      "   - Tamaño: 1.03 MB\n",
      "   - Resolución: 640x640\n",
      "   - FPS: 30.00\n",
      "   - Frames: 104\n",
      "   - Duración: 3.47 segundos\n",
      "\n",
      "51. Disgusto/muestra_6/video_disgusto_muestra_6.mp4\n",
      "   - Tamaño: 0.54 MB\n",
      "   - Resolución: 640x640\n",
      "   - FPS: 30.00\n",
      "   - Frames: 104\n",
      "   - Duración: 3.47 segundos\n",
      "\n",
      "52. Feliz/muestra_1/feliz_muestra_1.mp4\n",
      "   - Tamaño: 0.53 MB\n",
      "   - Resolución: 640x640\n",
      "   - FPS: 30.00\n",
      "   - Frames: 55\n",
      "   - Duración: 1.83 segundos\n",
      "\n",
      "53. Feliz/muestra_1/video_feliz_muestra_1.mp4\n",
      "   - Tamaño: 0.30 MB\n",
      "   - Resolución: 640x640\n",
      "   - FPS: 30.00\n",
      "   - Frames: 55\n",
      "   - Duración: 1.83 segundos\n",
      "\n",
      "54. Feliz/muestra_2/feliz_muestra_2.mp4\n",
      "   - Tamaño: 1.15 MB\n",
      "   - Resolución: 640x640\n",
      "   - FPS: 30.00\n",
      "   - Frames: 111\n",
      "   - Duración: 3.70 segundos\n",
      "\n",
      "55. Feliz/muestra_2/video_feliz_muestra_2.mp4\n",
      "   - Tamaño: 0.63 MB\n",
      "   - Resolución: 640x640\n",
      "   - FPS: 30.00\n",
      "   - Frames: 111\n",
      "   - Duración: 3.70 segundos\n",
      "\n",
      "56. Feliz/muestra_3/feliz_muestra_3.mp4\n",
      "   - Tamaño: 1.02 MB\n",
      "   - Resolución: 640x640\n",
      "   - FPS: 30.00\n",
      "   - Frames: 112\n",
      "   - Duración: 3.73 segundos\n",
      "\n",
      "57. Feliz/muestra_3/video_feliz_muestra_3.mp4\n",
      "   - Tamaño: 0.60 MB\n",
      "   - Resolución: 640x640\n",
      "   - FPS: 30.00\n",
      "   - Frames: 112\n",
      "   - Duración: 3.73 segundos\n",
      "\n",
      "58. Feliz/muestra_4/feliz_muestra_4.mp4\n",
      "   - Tamaño: 0.64 MB\n",
      "   - Resolución: 640x640\n",
      "   - FPS: 30.00\n",
      "   - Frames: 63\n",
      "   - Duración: 2.10 segundos\n",
      "\n",
      "59. Feliz/muestra_4/video_feliz_muestra_4.mp4\n",
      "   - Tamaño: 0.38 MB\n",
      "   - Resolución: 640x640\n",
      "   - FPS: 30.00\n",
      "   - Frames: 63\n",
      "   - Duración: 2.10 segundos\n",
      "\n",
      "60. Feliz/muestra_5/feliz_muestra_5.mp4\n",
      "   - Tamaño: 0.80 MB\n",
      "   - Resolución: 640x640\n",
      "   - FPS: 30.00\n",
      "   - Frames: 81\n",
      "   - Duración: 2.70 segundos\n",
      "\n",
      "61. Feliz/muestra_5/video_feliz_muestra_5.mp4\n",
      "   - Tamaño: 0.46 MB\n",
      "   - Resolución: 640x640\n",
      "   - FPS: 30.00\n",
      "   - Frames: 81\n",
      "   - Duración: 2.70 segundos\n",
      "\n",
      "62. Feliz/muestra_6/feliz_muestra_6.mp4\n",
      "   - Tamaño: 1.07 MB\n",
      "   - Resolución: 640x640\n",
      "   - FPS: 30.00\n",
      "   - Frames: 100\n",
      "   - Duración: 3.33 segundos\n",
      "\n",
      "63. Feliz/muestra_6/video_feliz_muestra_6.mp4\n",
      "   - Tamaño: 0.60 MB\n",
      "   - Resolución: 640x640\n",
      "   - FPS: 30.00\n",
      "   - Frames: 100\n",
      "   - Duración: 3.33 segundos\n",
      "\n",
      "64. Huele mal/muestra_1/huele_mal_muestra_1.mp4\n",
      "   - Tamaño: 1.21 MB\n",
      "   - Resolución: 640x640\n",
      "   - FPS: 30.00\n",
      "   - Frames: 110\n",
      "   - Duración: 3.67 segundos\n",
      "\n",
      "65. Huele mal/muestra_1/video_huele_mal_muestra_1.mp4\n",
      "   - Tamaño: 0.66 MB\n",
      "   - Resolución: 640x640\n",
      "   - FPS: 30.00\n",
      "   - Frames: 110\n",
      "   - Duración: 3.67 segundos\n",
      "\n",
      "66. Huele mal/muestra_2/huele_mal_muestra_2.mp4\n",
      "   - Tamaño: 0.94 MB\n",
      "   - Resolución: 640x640\n",
      "   - FPS: 30.00\n",
      "   - Frames: 90\n",
      "   - Duración: 3.00 segundos\n",
      "\n",
      "67. Huele mal/muestra_2/video_huele_mal_muestra_2.mp4\n",
      "   - Tamaño: 0.51 MB\n",
      "   - Resolución: 640x640\n",
      "   - FPS: 30.00\n",
      "   - Frames: 90\n",
      "   - Duración: 3.00 segundos\n",
      "\n",
      "68. Huele mal/muestra_3/huele_mal_muestra_3.mp4\n",
      "   - Tamaño: 1.10 MB\n",
      "   - Resolución: 640x640\n",
      "   - FPS: 30.00\n",
      "   - Frames: 99\n",
      "   - Duración: 3.30 segundos\n",
      "\n",
      "69. Huele mal/muestra_3/video_huele_mal_muestra_3.mp4\n",
      "   - Tamaño: 0.58 MB\n",
      "   - Resolución: 640x640\n",
      "   - FPS: 30.00\n",
      "   - Frames: 99\n",
      "   - Duración: 3.30 segundos\n",
      "\n",
      "70. Huele mal/muestra_4/huele_mal_muestra_4.mp4\n",
      "   - Tamaño: 1.11 MB\n",
      "   - Resolución: 640x640\n",
      "   - FPS: 30.00\n",
      "   - Frames: 98\n",
      "   - Duración: 3.27 segundos\n",
      "\n",
      "71. Huele mal/muestra_4/video_huele_mal_muestra_4.mp4\n",
      "   - Tamaño: 0.57 MB\n",
      "   - Resolución: 640x640\n",
      "   - FPS: 30.00\n",
      "   - Frames: 98\n",
      "   - Duración: 3.27 segundos\n",
      "\n",
      "72. Huele mal/muestra_5/huele_mal_muestra_5.mp4\n",
      "   - Tamaño: 1.34 MB\n",
      "   - Resolución: 640x640\n",
      "   - FPS: 30.00\n",
      "   - Frames: 119\n",
      "   - Duración: 3.97 segundos\n",
      "\n",
      "73. Huele mal/muestra_5/video_huele_mal_muestra_5.mp4\n",
      "   - Tamaño: 0.70 MB\n",
      "   - Resolución: 640x640\n",
      "   - FPS: 30.00\n",
      "   - Frames: 119\n",
      "   - Duración: 3.97 segundos\n",
      "\n",
      "74. Huele mal/muestra_6/huele_mal_muestra_6.mp4\n",
      "   - Tamaño: 1.53 MB\n",
      "   - Resolución: 640x640\n",
      "   - FPS: 30.00\n",
      "   - Frames: 134\n",
      "   - Duración: 4.47 segundos\n",
      "\n",
      "75. Huele mal/muestra_6/video_huele_mal_muestra_6.mp4\n",
      "   - Tamaño: 0.79 MB\n",
      "   - Resolución: 640x640\n",
      "   - FPS: 30.00\n",
      "   - Frames: 134\n",
      "   - Duración: 4.47 segundos\n",
      "\n",
      "76. Ladron/muestra_1/ladron_muestra_1.mp4\n",
      "   - Tamaño: 0.38 MB\n",
      "   - Resolución: 640x640\n",
      "   - FPS: 30.00\n",
      "   - Frames: 47\n",
      "   - Duración: 1.57 segundos\n",
      "\n",
      "77. Ladron/muestra_1/video_ladron_muestra_1.mp4\n",
      "   - Tamaño: 0.26 MB\n",
      "   - Resolución: 640x640\n",
      "   - FPS: 30.00\n",
      "   - Frames: 47\n",
      "   - Duración: 1.57 segundos\n",
      "\n",
      "78. Ladron/muestra_2/ladron_muestra_2.mp4\n",
      "   - Tamaño: 0.86 MB\n",
      "   - Resolución: 640x640\n",
      "   - FPS: 30.00\n",
      "   - Frames: 88\n",
      "   - Duración: 2.93 segundos\n",
      "\n",
      "79. Ladron/muestra_2/video_ladron_muestra_2.mp4\n",
      "   - Tamaño: 0.48 MB\n",
      "   - Resolución: 640x640\n",
      "   - FPS: 30.00\n",
      "   - Frames: 88\n",
      "   - Duración: 2.93 segundos\n",
      "\n",
      "80. Ladron/muestra_3/ladron_muestra_3.mp4\n",
      "   - Tamaño: 0.80 MB\n",
      "   - Resolución: 640x640\n",
      "   - FPS: 30.00\n",
      "   - Frames: 84\n",
      "   - Duración: 2.80 segundos\n",
      "\n",
      "81. Ladron/muestra_3/video_ladron_muestra_3.mp4\n",
      "   - Tamaño: 0.43 MB\n",
      "   - Resolución: 640x640\n",
      "   - FPS: 30.00\n",
      "   - Frames: 84\n",
      "   - Duración: 2.80 segundos\n",
      "\n",
      "82. Ladron/muestra_4/ladron_muestra_4.mp4\n",
      "   - Tamaño: 0.97 MB\n",
      "   - Resolución: 640x640\n",
      "   - FPS: 30.00\n",
      "   - Frames: 92\n",
      "   - Duración: 3.07 segundos\n",
      "\n",
      "83. Ladron/muestra_4/video_ladron_muestra_4.mp4\n",
      "   - Tamaño: 0.50 MB\n",
      "   - Resolución: 640x640\n",
      "   - FPS: 30.00\n",
      "   - Frames: 92\n",
      "   - Duración: 3.07 segundos\n",
      "\n",
      "84. Ladron/muestra_5/ladron_muestra_5.mp4\n",
      "   - Tamaño: 0.66 MB\n",
      "   - Resolución: 640x640\n",
      "   - FPS: 30.00\n",
      "   - Frames: 65\n",
      "   - Duración: 2.17 segundos\n",
      "\n",
      "85. Ladron/muestra_5/video_ladron_muestra_5.mp4\n",
      "   - Tamaño: 0.38 MB\n",
      "   - Resolución: 640x640\n",
      "   - FPS: 30.00\n",
      "   - Frames: 65\n",
      "   - Duración: 2.17 segundos\n",
      "\n",
      "86. Ladron/muestra_6/ladron_muestra_6.mp4\n",
      "   - Tamaño: 0.86 MB\n",
      "   - Resolución: 640x640\n",
      "   - FPS: 30.00\n",
      "   - Frames: 90\n",
      "   - Duración: 3.00 segundos\n",
      "\n",
      "87. Ladron/muestra_6/video_ladron_muestra_6.mp4\n",
      "   - Tamaño: 0.45 MB\n",
      "   - Resolución: 640x640\n",
      "   - FPS: 30.00\n",
      "   - Frames: 90\n",
      "   - Duración: 3.00 segundos\n",
      "\n",
      "88. Llorar/muestra_1/llorar_muestra_1.mp4\n",
      "   - Tamaño: 0.51 MB\n",
      "   - Resolución: 640x640\n",
      "   - FPS: 30.00\n",
      "   - Frames: 58\n",
      "   - Duración: 1.93 segundos\n",
      "\n",
      "89. Llorar/muestra_1/video_llorar_muestra_1.mp4\n",
      "   - Tamaño: 0.31 MB\n",
      "   - Resolución: 640x640\n",
      "   - FPS: 30.00\n",
      "   - Frames: 58\n",
      "   - Duración: 1.93 segundos\n",
      "\n",
      "90. Llorar/muestra_2/llorar_muestra_2.mp4\n",
      "   - Tamaño: 0.82 MB\n",
      "   - Resolución: 640x640\n",
      "   - FPS: 30.00\n",
      "   - Frames: 81\n",
      "   - Duración: 2.70 segundos\n",
      "\n",
      "91. Llorar/muestra_2/video_llorar_muestra_2.mp4\n",
      "   - Tamaño: 0.42 MB\n",
      "   - Resolución: 640x640\n",
      "   - FPS: 30.00\n",
      "   - Frames: 81\n",
      "   - Duración: 2.70 segundos\n",
      "\n",
      "92. Llorar/muestra_3/llorar_muestra_3.mp4\n",
      "   - Tamaño: 0.84 MB\n",
      "   - Resolución: 640x640\n",
      "   - FPS: 30.00\n",
      "   - Frames: 94\n",
      "   - Duración: 3.13 segundos\n",
      "\n",
      "93. Llorar/muestra_3/video_llorar_muestra_3.mp4\n",
      "   - Tamaño: 0.48 MB\n",
      "   - Resolución: 640x640\n",
      "   - FPS: 30.00\n",
      "   - Frames: 94\n",
      "   - Duración: 3.13 segundos\n",
      "\n",
      "94. Llorar/muestra_4/llorar_muestra_4.mp4\n",
      "   - Tamaño: 1.07 MB\n",
      "   - Resolución: 640x640\n",
      "   - FPS: 30.00\n",
      "   - Frames: 115\n",
      "   - Duración: 3.83 segundos\n",
      "\n",
      "95. Llorar/muestra_4/video_llorar_muestra_4.mp4\n",
      "   - Tamaño: 0.56 MB\n",
      "   - Resolución: 640x640\n",
      "   - FPS: 30.00\n",
      "   - Frames: 115\n",
      "   - Duración: 3.83 segundos\n",
      "\n",
      "96. Llorar/muestra_5/llorar_muestra_5.mp4\n",
      "   - Tamaño: 1.48 MB\n",
      "   - Resolución: 640x640\n",
      "   - FPS: 30.00\n",
      "   - Frames: 152\n",
      "   - Duración: 5.07 segundos\n",
      "\n",
      "97. Llorar/muestra_5/video_llorar_muestra_5.mp4\n",
      "   - Tamaño: 0.79 MB\n",
      "   - Resolución: 640x640\n",
      "   - FPS: 30.00\n",
      "   - Frames: 152\n",
      "   - Duración: 5.07 segundos\n",
      "\n",
      "98. Llorar/muestra_6/llorar_muestra_6.mp4\n",
      "   - Tamaño: 1.18 MB\n",
      "   - Resolución: 640x640\n",
      "   - FPS: 30.00\n",
      "   - Frames: 125\n",
      "   - Duración: 4.17 segundos\n",
      "\n",
      "99. Llorar/muestra_6/video_llorar_muestra_6.mp4\n",
      "   - Tamaño: 0.64 MB\n",
      "   - Resolución: 640x640\n",
      "   - FPS: 30.00\n",
      "   - Frames: 125\n",
      "   - Duración: 4.17 segundos\n",
      "\n",
      "100. Molesto/muestra_1/molesto_muestra_1.mp4\n",
      "   - Tamaño: 0.51 MB\n",
      "   - Resolución: 640x640\n",
      "   - FPS: 30.00\n",
      "   - Frames: 54\n",
      "   - Duración: 1.80 segundos\n",
      "\n",
      "101. Molesto/muestra_1/video_molesto_muestra_1.mp4\n",
      "   - Tamaño: 0.32 MB\n",
      "   - Resolución: 640x640\n",
      "   - FPS: 30.00\n",
      "   - Frames: 54\n",
      "   - Duración: 1.80 segundos\n",
      "\n",
      "102. Molesto/muestra_2/molesto_muestra_2.mp4\n",
      "   - Tamaño: 0.85 MB\n",
      "   - Resolución: 640x640\n",
      "   - FPS: 30.00\n",
      "   - Frames: 86\n",
      "   - Duración: 2.87 segundos\n",
      "\n",
      "103. Molesto/muestra_2/video_molesto_muestra_2.mp4\n",
      "   - Tamaño: 0.44 MB\n",
      "   - Resolución: 640x640\n",
      "   - FPS: 30.00\n",
      "   - Frames: 86\n",
      "   - Duración: 2.87 segundos\n",
      "\n",
      "104. Molesto/muestra_3/molesto_muestra_3.mp4\n",
      "   - Tamaño: 0.90 MB\n",
      "   - Resolución: 640x640\n",
      "   - FPS: 30.00\n",
      "   - Frames: 91\n",
      "   - Duración: 3.03 segundos\n",
      "\n",
      "105. Molesto/muestra_3/video_molesto_muestra_3.mp4\n",
      "   - Tamaño: 0.48 MB\n",
      "   - Resolución: 640x640\n",
      "   - FPS: 30.00\n",
      "   - Frames: 91\n",
      "   - Duración: 3.03 segundos\n",
      "\n",
      "106. Molesto/muestra_4/molesto_muestra_4.mp4\n",
      "   - Tamaño: 0.88 MB\n",
      "   - Resolución: 640x640\n",
      "   - FPS: 30.00\n",
      "   - Frames: 85\n",
      "   - Duración: 2.83 segundos\n",
      "\n",
      "107. Molesto/muestra_4/video_molesto_muestra_4.mp4\n",
      "   - Tamaño: 0.46 MB\n",
      "   - Resolución: 640x640\n",
      "   - FPS: 30.00\n",
      "   - Frames: 85\n",
      "   - Duración: 2.83 segundos\n",
      "\n",
      "108. Molesto/muestra_5/molesto_muestra_5.mp4\n",
      "   - Tamaño: 0.83 MB\n",
      "   - Resolución: 640x640\n",
      "   - FPS: 30.00\n",
      "   - Frames: 88\n",
      "   - Duración: 2.93 segundos\n",
      "\n",
      "109. Molesto/muestra_5/video_molesto_muestra_5.mp4\n",
      "   - Tamaño: 0.45 MB\n",
      "   - Resolución: 640x640\n",
      "   - FPS: 30.00\n",
      "   - Frames: 88\n",
      "   - Duración: 2.93 segundos\n",
      "\n",
      "110. Molesto/muestra_6/molesto_muestra_6.mp4\n",
      "   - Tamaño: 1.09 MB\n",
      "   - Resolución: 640x640\n",
      "   - FPS: 30.00\n",
      "   - Frames: 108\n",
      "   - Duración: 3.60 segundos\n",
      "\n",
      "111. Molesto/muestra_6/video_molesto_muestra_6.mp4\n",
      "   - Tamaño: 0.54 MB\n",
      "   - Resolución: 640x640\n",
      "   - FPS: 30.00\n",
      "   - Frames: 108\n",
      "   - Duración: 3.60 segundos\n",
      "\n",
      "112. No/muestra_1/no_muestra_1.mp4\n",
      "   - Tamaño: 1.24 MB\n",
      "   - Resolución: 640x640\n",
      "   - FPS: 30.00\n",
      "   - Frames: 108\n",
      "   - Duración: 3.60 segundos\n",
      "\n",
      "113. No/muestra_1/video_no_muestra_1.mp4\n",
      "   - Tamaño: 0.70 MB\n",
      "   - Resolución: 640x640\n",
      "   - FPS: 30.00\n",
      "   - Frames: 108\n",
      "   - Duración: 3.60 segundos\n",
      "\n",
      "114. No/muestra_2/no_muestra_2.mp4\n",
      "   - Tamaño: 0.92 MB\n",
      "   - Resolución: 640x640\n",
      "   - FPS: 30.00\n",
      "   - Frames: 79\n",
      "   - Duración: 2.63 segundos\n",
      "\n",
      "115. No/muestra_2/video_no_muestra_2.mp4\n",
      "   - Tamaño: 0.54 MB\n",
      "   - Resolución: 640x640\n",
      "   - FPS: 30.00\n",
      "   - Frames: 79\n",
      "   - Duración: 2.63 segundos\n",
      "\n",
      "116. No/muestra_3/no_muestra_3.mp4\n",
      "   - Tamaño: 0.87 MB\n",
      "   - Resolución: 640x640\n",
      "   - FPS: 30.00\n",
      "   - Frames: 74\n",
      "   - Duración: 2.47 segundos\n",
      "\n",
      "117. No/muestra_3/video_no_muestra_3.mp4\n",
      "   - Tamaño: 0.49 MB\n",
      "   - Resolución: 640x640\n",
      "   - FPS: 30.00\n",
      "   - Frames: 74\n",
      "   - Duración: 2.47 segundos\n",
      "\n",
      "118. No/muestra_4/no_muestra_4.mp4\n",
      "   - Tamaño: 0.81 MB\n",
      "   - Resolución: 640x640\n",
      "   - FPS: 30.00\n",
      "   - Frames: 68\n",
      "   - Duración: 2.27 segundos\n",
      "\n",
      "119. No/muestra_4/video_no_muestra_4.mp4\n",
      "   - Tamaño: 0.44 MB\n",
      "   - Resolución: 640x640\n",
      "   - FPS: 30.00\n",
      "   - Frames: 68\n",
      "   - Duración: 2.27 segundos\n",
      "\n",
      "120. No/muestra_5/no_muestra_5.mp4\n",
      "   - Tamaño: 0.89 MB\n",
      "   - Resolución: 640x640\n",
      "   - FPS: 30.00\n",
      "   - Frames: 75\n",
      "   - Duración: 2.50 segundos\n",
      "\n",
      "121. No/muestra_5/video_no_muestra_5.mp4\n",
      "   - Tamaño: 0.49 MB\n",
      "   - Resolución: 640x640\n",
      "   - FPS: 30.00\n",
      "   - Frames: 75\n",
      "   - Duración: 2.50 segundos\n",
      "\n",
      "122. No/muestra_6/no_muestra_6.mp4\n",
      "   - Tamaño: 0.88 MB\n",
      "   - Resolución: 640x640\n",
      "   - FPS: 30.00\n",
      "   - Frames: 74\n",
      "   - Duración: 2.47 segundos\n",
      "\n",
      "123. No/muestra_6/video_no_muestra_6.mp4\n",
      "   - Tamaño: 0.46 MB\n",
      "   - Resolución: 640x640\n",
      "   - FPS: 30.00\n",
      "   - Frames: 74\n",
      "   - Duración: 2.47 segundos\n",
      "\n",
      "124. No se/muestra_1/no_se_muestra_1.mp4\n",
      "   - Tamaño: 0.56 MB\n",
      "   - Resolución: 640x640\n",
      "   - FPS: 30.00\n",
      "   - Frames: 63\n",
      "   - Duración: 2.10 segundos\n",
      "\n",
      "125. No se/muestra_1/video_no_se_muestra_1.mp4\n",
      "   - Tamaño: 0.33 MB\n",
      "   - Resolución: 640x640\n",
      "   - FPS: 30.00\n",
      "   - Frames: 63\n",
      "   - Duración: 2.10 segundos\n",
      "\n",
      "126. No se/muestra_2/no_se_muestra_2.mp4\n",
      "   - Tamaño: 0.71 MB\n",
      "   - Resolución: 640x640\n",
      "   - FPS: 30.00\n",
      "   - Frames: 78\n",
      "   - Duración: 2.60 segundos\n",
      "\n",
      "127. No se/muestra_2/video_no_se_muestra_2.mp4\n",
      "   - Tamaño: 0.42 MB\n",
      "   - Resolución: 640x640\n",
      "   - FPS: 30.00\n",
      "   - Frames: 78\n",
      "   - Duración: 2.60 segundos\n",
      "\n",
      "128. No se/muestra_3/no_se_muestra_3.mp4\n",
      "   - Tamaño: 0.79 MB\n",
      "   - Resolución: 640x640\n",
      "   - FPS: 30.00\n",
      "   - Frames: 83\n",
      "   - Duración: 2.77 segundos\n",
      "\n",
      "129. No se/muestra_3/video_no_se_muestra_3.mp4\n",
      "   - Tamaño: 0.43 MB\n",
      "   - Resolución: 640x640\n",
      "   - FPS: 30.00\n",
      "   - Frames: 83\n",
      "   - Duración: 2.77 segundos\n",
      "\n",
      "130. No se/muestra_4/no_se_muestra_4.mp4\n",
      "   - Tamaño: 0.95 MB\n",
      "   - Resolución: 640x640\n",
      "   - FPS: 30.00\n",
      "   - Frames: 95\n",
      "   - Duración: 3.17 segundos\n",
      "\n",
      "131. No se/muestra_4/video_no_se_muestra_4.mp4\n",
      "   - Tamaño: 0.55 MB\n",
      "   - Resolución: 640x640\n",
      "   - FPS: 30.00\n",
      "   - Frames: 95\n",
      "   - Duración: 3.17 segundos\n",
      "\n",
      "132. No se/muestra_5/no_se_muestra_5.mp4\n",
      "   - Tamaño: 0.81 MB\n",
      "   - Resolución: 640x640\n",
      "   - FPS: 30.00\n",
      "   - Frames: 75\n",
      "   - Duración: 2.50 segundos\n",
      "\n",
      "133. No se/muestra_5/video_no_se_muestra_5.mp4\n",
      "   - Tamaño: 0.45 MB\n",
      "   - Resolución: 640x640\n",
      "   - FPS: 30.00\n",
      "   - Frames: 75\n",
      "   - Duración: 2.50 segundos\n",
      "\n",
      "134. No se/muestra_6/no_se_muestra_6.mp4\n",
      "   - Tamaño: 1.03 MB\n",
      "   - Resolución: 640x640\n",
      "   - FPS: 30.00\n",
      "   - Frames: 104\n",
      "   - Duración: 3.47 segundos\n",
      "\n",
      "135. No se/muestra_6/video_no_se_muestra_6.mp4\n",
      "   - Tamaño: 0.55 MB\n",
      "   - Resolución: 640x640\n",
      "   - FPS: 30.00\n",
      "   - Frames: 104\n",
      "   - Duración: 3.47 segundos\n",
      "\n",
      "136. Si/muestra_1/si_muestra_1.mp4\n",
      "   - Tamaño: 0.77 MB\n",
      "   - Resolución: 640x640\n",
      "   - FPS: 30.00\n",
      "   - Frames: 80\n",
      "   - Duración: 2.67 segundos\n",
      "\n",
      "137. Si/muestra_1/video_si_muestra_1.mp4\n",
      "   - Tamaño: 0.46 MB\n",
      "   - Resolución: 640x640\n",
      "   - FPS: 30.00\n",
      "   - Frames: 80\n",
      "   - Duración: 2.67 segundos\n",
      "\n",
      "138. Si/muestra_2/si_muestra_2.mp4\n",
      "   - Tamaño: 0.81 MB\n",
      "   - Resolución: 640x640\n",
      "   - FPS: 30.00\n",
      "   - Frames: 82\n",
      "   - Duración: 2.73 segundos\n",
      "\n",
      "139. Si/muestra_2/video_si_muestra_2.mp4\n",
      "   - Tamaño: 0.46 MB\n",
      "   - Resolución: 640x640\n",
      "   - FPS: 30.00\n",
      "   - Frames: 82\n",
      "   - Duración: 2.73 segundos\n",
      "\n",
      "140. Si/muestra_3/si_muestra_3.mp4\n",
      "   - Tamaño: 0.86 MB\n",
      "   - Resolución: 640x640\n",
      "   - FPS: 30.00\n",
      "   - Frames: 85\n",
      "   - Duración: 2.83 segundos\n",
      "\n",
      "141. Si/muestra_3/video_si_muestra_3.mp4\n",
      "   - Tamaño: 0.48 MB\n",
      "   - Resolución: 640x640\n",
      "   - FPS: 30.00\n",
      "   - Frames: 85\n",
      "   - Duración: 2.83 segundos\n",
      "\n",
      "142. Si/muestra_4/si_muestra_4.mp4\n",
      "   - Tamaño: 0.69 MB\n",
      "   - Resolución: 640x640\n",
      "   - FPS: 30.00\n",
      "   - Frames: 69\n",
      "   - Duración: 2.30 segundos\n",
      "\n",
      "143. Si/muestra_4/video_si_muestra_4.mp4\n",
      "   - Tamaño: 0.37 MB\n",
      "   - Resolución: 640x640\n",
      "   - FPS: 30.00\n",
      "   - Frames: 69\n",
      "   - Duración: 2.30 segundos\n",
      "\n",
      "144. Si/muestra_5/si_muestra_5.mp4\n",
      "   - Tamaño: 0.86 MB\n",
      "   - Resolución: 640x640\n",
      "   - FPS: 30.00\n",
      "   - Frames: 83\n",
      "   - Duración: 2.77 segundos\n",
      "\n",
      "145. Si/muestra_5/video_si_muestra_5.mp4\n",
      "   - Tamaño: 0.47 MB\n",
      "   - Resolución: 640x640\n",
      "   - FPS: 30.00\n",
      "   - Frames: 83\n",
      "   - Duración: 2.77 segundos\n",
      "\n",
      "146. Si/muestra_6/si_muestra_6.mp4\n",
      "   - Tamaño: 0.96 MB\n",
      "   - Resolución: 640x640\n",
      "   - FPS: 30.00\n",
      "   - Frames: 97\n",
      "   - Duración: 3.23 segundos\n",
      "\n",
      "147. Si/muestra_6/video_si_muestra_6.mp4\n",
      "   - Tamaño: 0.50 MB\n",
      "   - Resolución: 640x640\n",
      "   - FPS: 30.00\n",
      "   - Frames: 97\n",
      "   - Duración: 3.23 segundos\n",
      "\n",
      "148. Sorpresa/muestra_1/sorpresa_muestra_1.mp4\n",
      "   - Tamaño: 0.55 MB\n",
      "   - Resolución: 640x640\n",
      "   - FPS: 30.00\n",
      "   - Frames: 57\n",
      "   - Duración: 1.90 segundos\n",
      "\n",
      "149. Sorpresa/muestra_1/video_sorpresa_muestra_1.mp4\n",
      "   - Tamaño: 0.31 MB\n",
      "   - Resolución: 640x640\n",
      "   - FPS: 30.00\n",
      "   - Frames: 57\n",
      "   - Duración: 1.90 segundos\n",
      "\n",
      "150. Sorpresa/muestra_2/sorpresa_muestra_2.mp4\n",
      "   - Tamaño: 0.73 MB\n",
      "   - Resolución: 640x640\n",
      "   - FPS: 30.00\n",
      "   - Frames: 75\n",
      "   - Duración: 2.50 segundos\n",
      "\n",
      "151. Sorpresa/muestra_2/video_sorpresa_muestra_2.mp4\n",
      "   - Tamaño: 0.43 MB\n",
      "   - Resolución: 640x640\n",
      "   - FPS: 30.00\n",
      "   - Frames: 75\n",
      "   - Duración: 2.50 segundos\n",
      "\n",
      "152. Sorpresa/muestra_3/sorpresa_muestra_3.mp4\n",
      "   - Tamaño: 0.92 MB\n",
      "   - Resolución: 640x640\n",
      "   - FPS: 30.00\n",
      "   - Frames: 91\n",
      "   - Duración: 3.03 segundos\n",
      "\n",
      "153. Sorpresa/muestra_3/video_sorpresa_muestra_3.mp4\n",
      "   - Tamaño: 0.52 MB\n",
      "   - Resolución: 640x640\n",
      "   - FPS: 30.00\n",
      "   - Frames: 91\n",
      "   - Duración: 3.03 segundos\n",
      "\n",
      "154. Sorpresa/muestra_4/sorpresa_muestra_4.mp4\n",
      "   - Tamaño: 0.82 MB\n",
      "   - Resolución: 640x640\n",
      "   - FPS: 30.00\n",
      "   - Frames: 83\n",
      "   - Duración: 2.77 segundos\n",
      "\n",
      "155. Sorpresa/muestra_4/video_output.mp4\n",
      "   - Tamaño: 0.44 MB\n",
      "   - Resolución: 640x640\n",
      "   - FPS: 30.00\n",
      "   - Frames: 83\n",
      "   - Duración: 2.77 segundos\n",
      "\n",
      "156. Sorpresa/muestra_4/video_sorpresa_muestra_4.mp4\n",
      "   - Tamaño: 0.44 MB\n",
      "   - Resolución: 640x640\n",
      "   - FPS: 30.00\n",
      "   - Frames: 83\n",
      "   - Duración: 2.77 segundos\n",
      "\n",
      "157. Sorpresa/muestra_5/sorpresa_muestra_5.mp4\n",
      "   - Tamaño: 0.29 MB\n",
      "   - Resolución: 640x640\n",
      "   - FPS: 30.00\n",
      "   - Frames: 25\n",
      "   - Duración: 0.83 segundos\n",
      "\n",
      "158. Sorpresa/muestra_5/video_sorpresa_muestra_5.mp4\n",
      "   - Tamaño: 0.16 MB\n",
      "   - Resolución: 640x640\n",
      "   - FPS: 30.00\n",
      "   - Frames: 25\n",
      "   - Duración: 0.83 segundos\n",
      "\n",
      "159. Sorpresa/muestra_6/sorpresa_muestra_6.mp4\n",
      "   - Tamaño: 0.99 MB\n",
      "   - Resolución: 640x640\n",
      "   - FPS: 30.00\n",
      "   - Frames: 94\n",
      "   - Duración: 3.13 segundos\n",
      "\n",
      "160. Sorpresa/muestra_6/video_sorpresa_muestra_6.mp4\n",
      "   - Tamaño: 0.52 MB\n",
      "   - Resolución: 640x640\n",
      "   - FPS: 30.00\n",
      "   - Frames: 94\n",
      "   - Duración: 3.13 segundos\n",
      "\n",
      "161. Triste/muestra_1/triste_muestra_1.mp4\n",
      "   - Tamaño: 0.95 MB\n",
      "   - Resolución: 640x640\n",
      "   - FPS: 30.00\n",
      "   - Frames: 110\n",
      "   - Duración: 3.67 segundos\n",
      "\n",
      "162. Triste/muestra_1/video_triste_muestra_1.mp4\n",
      "   - Tamaño: 0.56 MB\n",
      "   - Resolución: 640x640\n",
      "   - FPS: 30.00\n",
      "   - Frames: 110\n",
      "   - Duración: 3.67 segundos\n",
      "\n",
      "163. Triste/muestra_2/triste_muestra_2.mp4\n",
      "   - Tamaño: 0.80 MB\n",
      "   - Resolución: 640x640\n",
      "   - FPS: 30.00\n",
      "   - Frames: 89\n",
      "   - Duración: 2.97 segundos\n",
      "\n",
      "164. Triste/muestra_2/video_triste_muestra_2.mp4\n",
      "   - Tamaño: 0.45 MB\n",
      "   - Resolución: 640x640\n",
      "   - FPS: 30.00\n",
      "   - Frames: 89\n",
      "   - Duración: 2.97 segundos\n",
      "\n",
      "165. Triste/muestra_3/triste_muestra_3.mp4\n",
      "   - Tamaño: 1.01 MB\n",
      "   - Resolución: 640x640\n",
      "   - FPS: 30.00\n",
      "   - Frames: 106\n",
      "   - Duración: 3.53 segundos\n",
      "\n",
      "166. Triste/muestra_3/video_triste_muestra_3.mp4\n",
      "   - Tamaño: 0.57 MB\n",
      "   - Resolución: 640x640\n",
      "   - FPS: 30.00\n",
      "   - Frames: 106\n",
      "   - Duración: 3.53 segundos\n",
      "\n",
      "167. Triste/muestra_4/triste_muestra_4.mp4\n",
      "   - Tamaño: 1.01 MB\n",
      "   - Resolución: 640x640\n",
      "   - FPS: 30.00\n",
      "   - Frames: 106\n",
      "   - Duración: 3.53 segundos\n",
      "\n",
      "168. Triste/muestra_4/video_triste_muestra_4.mp4\n",
      "   - Tamaño: 0.53 MB\n",
      "   - Resolución: 640x640\n",
      "   - FPS: 30.00\n",
      "   - Frames: 106\n",
      "   - Duración: 3.53 segundos\n",
      "\n",
      "169. Triste/muestra_5/triste_muestra_5.mp4\n",
      "   - Tamaño: 0.64 MB\n",
      "   - Resolución: 640x640\n",
      "   - FPS: 30.00\n",
      "   - Frames: 69\n",
      "   - Duración: 2.30 segundos\n",
      "\n",
      "170. Triste/muestra_5/video_triste_muestra_5.mp4\n",
      "   - Tamaño: 0.34 MB\n",
      "   - Resolución: 640x640\n",
      "   - FPS: 30.00\n",
      "   - Frames: 69\n",
      "   - Duración: 2.30 segundos\n",
      "\n",
      "171. Triste/muestra_6/triste_muestra_6.mp4\n",
      "   - Tamaño: 0.82 MB\n",
      "   - Resolución: 640x640\n",
      "   - FPS: 30.00\n",
      "   - Frames: 84\n",
      "   - Duración: 2.80 segundos\n",
      "\n",
      "172. Triste/muestra_6/video_triste_muestra_6.mp4\n",
      "   - Tamaño: 0.41 MB\n",
      "   - Resolución: 640x640\n",
      "   - FPS: 30.00\n",
      "   - Frames: 84\n",
      "   - Duración: 2.80 segundos\n",
      "\n"
     ]
    }
   ],
   "source": [
    "import os\n",
    "import cv2\n",
    "from tqdm import tqdm\n",
    "\n",
    "# Ruta base donde se encuentran los datos\n",
    "base_path = r'C:\\Users\\Invitado\\Documents\\facial_expression_detector\\data_procesada\\data\\SUJETO 2\\senas_procesadas'\n",
    "\n",
    "def process_folder_to_video(input_folder, output_video_path, fps=30):\n",
    "    \"\"\"\n",
    "    Convierte todas las imágenes (png, jpg, jpeg) en un directorio a un video MP4\n",
    "    \n",
    "    Args:\n",
    "        input_folder: Ruta de la carpeta con las imágenes\n",
    "        output_video_path: Ruta para guardar el video generado\n",
    "        fps: Frames por segundo para el video (default: 30)\n",
    "    \n",
    "    Returns:\n",
    "        bool: True si el video se generó correctamente, False en caso contrario\n",
    "    \"\"\"\n",
    "    # Obtener todas las imágenes en la carpeta, ordenadas\n",
    "    image_files = sorted([f for f in os.listdir(input_folder) \n",
    "                      if f.lower().endswith(('.jpg', '.jpeg', '.png'))])\n",
    "    \n",
    "    # Verificar si hay imágenes\n",
    "    if not image_files:\n",
    "        print(f\"❌ No se encontraron imágenes válidas en la carpeta: {input_folder}\")\n",
    "        return False\n",
    "    \n",
    "    # Leer la primera imagen para obtener las dimensiones\n",
    "    first_image_path = os.path.join(input_folder, image_files[0])\n",
    "    frame = cv2.imread(first_image_path)\n",
    "    \n",
    "    # Comprobar si la imagen se cargó correctamente\n",
    "    if frame is None:\n",
    "        print(f\"❌ No se pudo leer la imagen: {first_image_path}\")\n",
    "        return False\n",
    "    \n",
    "    height, width = frame.shape[:2]\n",
    "    \n",
    "    # Configurar el video\n",
    "    fourcc = cv2.VideoWriter_fourcc(*'mp4v')  # Formato de compresión para video mp4\n",
    "    \n",
    "    # Asegurarse de que exista el directorio para guardar el video\n",
    "    os.makedirs(os.path.dirname(output_video_path), exist_ok=True)\n",
    "    \n",
    "    out = cv2.VideoWriter(output_video_path, fourcc, fps, (width, height))\n",
    "    \n",
    "    # Añadir las imágenes al video\n",
    "    for filename in tqdm(image_files, desc=f\"Procesando {os.path.basename(input_folder)}\"):\n",
    "        image_path = os.path.join(input_folder, filename)\n",
    "        frame = cv2.imread(image_path)\n",
    "        \n",
    "        # Verificar si la imagen fue leída correctamente\n",
    "        if frame is None:\n",
    "            print(f\"⚠️ Imagen no leída: {image_path}\")\n",
    "            continue\n",
    "        \n",
    "        # Añadir la imagen al video\n",
    "        out.write(frame)\n",
    "    \n",
    "    # Liberar el objeto de salida\n",
    "    out.release()\n",
    "    print(f\"✅ Video generado correctamente en: {output_video_path}\")\n",
    "    return True\n",
    "\n",
    "def process_all_a_ver_folders():\n",
    "    \"\"\"\n",
    "    Recorre todas las carpetas 'A ver' dentro de la estructura y procesa las imágenes RGB\n",
    "    para convertirlas en videos, guardando cada video en su carpeta de muestra correspondiente\n",
    "    \"\"\"\n",
    "    # Construir la ruta base para 'A ver'\n",
    "    a_ver_base = os.path.join(base_path, 'A ver')\n",
    "    \n",
    "    # Verificar si la carpeta existe\n",
    "    if not os.path.exists(a_ver_base):\n",
    "        print(f\"❌ La carpeta 'A ver' no existe en: {base_path}\")\n",
    "        return\n",
    "    \n",
    "    # Obtener todas las subcarpetas 'muestra_X'\n",
    "    muestra_folders = [f for f in os.listdir(a_ver_base) if f.startswith('muestra_')]\n",
    "    \n",
    "    if not muestra_folders:\n",
    "        print(f\"❌ No se encontraron carpetas 'muestra_X' en: {a_ver_base}\")\n",
    "        return\n",
    "    \n",
    "    videos_generated = 0\n",
    "    \n",
    "    # Procesar cada carpeta muestra\n",
    "    for muestra_folder in muestra_folders:\n",
    "        muestra_path = os.path.join(a_ver_base, muestra_folder)\n",
    "        \n",
    "        # Buscar la carpeta 'rgb' dentro de cada muestra\n",
    "        rgb_path = os.path.join(muestra_path, 'CARA')\n",
    "        \n",
    "        if os.path.exists(rgb_path) and os.path.isdir(rgb_path):\n",
    "            # Generar nombre del video de salida dentro de la carpeta muestra\n",
    "            output_video_name = f\"video_{muestra_folder}_rgb.mp4\"\n",
    "            output_path = os.path.join(muestra_path, output_video_name)\n",
    "            \n",
    "            # Procesar carpeta\n",
    "            success = process_folder_to_video(rgb_path, output_path)\n",
    "            if success:\n",
    "                videos_generated += 1\n",
    "        else:\n",
    "            print(f\"⚠️ No se encontró la carpeta 'rgb' en: {muestra_path}\")\n",
    "    \n",
    "    print(f\"\\n✅ Proceso completado. Videos generados: {videos_generated}\")\n",
    "\n",
    "def process_all_expressions():\n",
    "    \"\"\"\n",
    "    Recorre todas las carpetas de expresiones (incluyendo 'A ver', 'Feliz', etc.)\n",
    "    y procesa las imágenes RGB para convertirlas en videos, guardando cada video\n",
    "    en su carpeta de muestra correspondiente\n",
    "    \"\"\"\n",
    "    # Obtener todas las carpetas de expresiones\n",
    "    expression_folders = [f for f in os.listdir(base_path) if os.path.isdir(os.path.join(base_path, f))]\n",
    "    \n",
    "    if not expression_folders:\n",
    "        print(f\"❌ No se encontraron carpetas de expresiones en: {base_path}\")\n",
    "        return\n",
    "    \n",
    "    videos_generated = 0\n",
    "    \n",
    "    # Procesar cada carpeta de expresión\n",
    "    for expression in expression_folders:\n",
    "        expression_path = os.path.join(base_path, expression)\n",
    "        print(f\"\\n🔍 Procesando expresión: {expression}\")\n",
    "        \n",
    "        # Obtener todas las subcarpetas 'muestra_X'\n",
    "        try:\n",
    "            muestra_folders = [f for f in os.listdir(expression_path) if f.startswith('muestra_')]\n",
    "        except Exception as e:\n",
    "            print(f\"❌ Error al listar carpetas en {expression_path}: {e}\")\n",
    "            continue\n",
    "        \n",
    "        for muestra_folder in muestra_folders:\n",
    "            muestra_path = os.path.join(expression_path, muestra_folder)\n",
    "            \n",
    "            # Buscar la carpeta 'rgb' dentro de cada muestra\n",
    "            rgb_path = os.path.join(muestra_path, 'CARA')#AQUI DECLARAS QUE CARPETAS USAR PARA HACER EL VIDEO\n",
    "            \n",
    "            if os.path.exists(rgb_path) and os.path.isdir(rgb_path):\n",
    "                # Generar nombre del video de salida dentro de la carpeta muestra\n",
    "                safe_expression = expression.replace(' ', '_').lower()\n",
    "                output_video_name = f\"{safe_expression}_{muestra_folder}.mp4\"\n",
    "                output_path = os.path.join(muestra_path, output_video_name)\n",
    "                \n",
    "                # Procesar carpeta\n",
    "                success = process_folder_to_video(rgb_path, output_path)\n",
    "                if success:\n",
    "                    videos_generated += 1\n",
    "            else:\n",
    "                print(f\"⚠️ No se encontró la carpeta 'rgb' en: {muestra_path}\")\n",
    "    \n",
    "    print(f\"\\n✅ Proceso completado. Videos generados: {videos_generated}\")\n",
    "\n",
    "def check_generated_videos():\n",
    "    \"\"\"\n",
    "    Verifica los videos generados buscando archivos MP4 en todas las carpetas\n",
    "    de muestras dentro de las expresiones\n",
    "    \"\"\"\n",
    "    videos_found = []\n",
    "    \n",
    "    # Recorrer todas las carpetas de expresiones\n",
    "    for expression in os.listdir(base_path):\n",
    "        expression_path = os.path.join(base_path, expression)\n",
    "        \n",
    "        if not os.path.isdir(expression_path):\n",
    "            continue\n",
    "            \n",
    "        # Recorrer las carpetas de muestras\n",
    "        try:\n",
    "            for muestra_folder in os.listdir(expression_path):\n",
    "                muestra_path = os.path.join(expression_path, muestra_folder)\n",
    "                \n",
    "                if not os.path.isdir(muestra_path) or not muestra_folder.startswith('muestra_'):\n",
    "                    continue\n",
    "                    \n",
    "                # Buscar archivos MP4 en la carpeta de muestra\n",
    "                for file in os.listdir(muestra_path):\n",
    "                    if file.endswith('.mp4'):\n",
    "                        video_path = os.path.join(muestra_path, file)\n",
    "                        videos_found.append((expression, muestra_folder, file, video_path))\n",
    "        except Exception as e:\n",
    "            print(f\"Error al explorar {expression_path}: {e}\")\n",
    "    \n",
    "    if not videos_found:\n",
    "        print(\"❌ No se encontraron videos generados.\")\n",
    "        return\n",
    "    \n",
    "    print(f\"📊 Videos generados ({len(videos_found)}):\\n\")\n",
    "    \n",
    "    for i, (expression, muestra, video, video_path) in enumerate(videos_found, 1):\n",
    "        video_size_mb = os.path.getsize(video_path) / (1024 * 1024)\n",
    "        \n",
    "        # Obtener información del video usando OpenCV\n",
    "        cap = cv2.VideoCapture(video_path)\n",
    "        if not cap.isOpened():\n",
    "            print(f\"{i}. {expression}/{muestra}/{video} - ⚠️ No se pudo abrir el video\")\n",
    "            continue\n",
    "            \n",
    "        # Obtener propiedades\n",
    "        fps = cap.get(cv2.CAP_PROP_FPS)\n",
    "        frame_count = int(cap.get(cv2.CAP_PROP_FRAME_COUNT))\n",
    "        width = int(cap.get(cv2.CAP_PROP_FRAME_WIDTH))\n",
    "        height = int(cap.get(cv2.CAP_PROP_FRAME_HEIGHT))\n",
    "        duration = frame_count / fps if fps > 0 else 0\n",
    "        \n",
    "        cap.release()\n",
    "        \n",
    "        print(f\"{i}. {expression}/{muestra}/{video}\")\n",
    "        print(f\"   - Tamaño: {video_size_mb:.2f} MB\")\n",
    "        print(f\"   - Resolución: {width}x{height}\")\n",
    "        print(f\"   - FPS: {fps:.2f}\")\n",
    "        print(f\"   - Frames: {frame_count}\")\n",
    "        print(f\"   - Duración: {duration:.2f} segundos\\n\")\n",
    "\n",
    "# Ejecutar el procesamiento\n",
    "if __name__ == \"__main__\":\n",
    "    print(\"¿Qué deseas procesar?\")\n",
    "    print(\"1. Solo las carpetas de 'A ver'\")\n",
    "    print(\"2. Todas las expresiones (incluyendo 'A ver' y otras)\")\n",
    "    print(\"3. Solo verificar videos existentes\")\n",
    "    \n",
    "    choice = input(\"Ingresa tu opción (1, 2 o 3): \")\n",
    "    \n",
    "    if choice == \"1\":\n",
    "        print(\"\\nProcesando solo las carpetas de 'A ver'...\\n\")\n",
    "        process_all_a_ver_folders()#Se puede modificar\n",
    "    elif choice == \"2\":\n",
    "        print(\"\\nProcesando todas las expresiones...\\n\")\n",
    "        process_all_expressions()\n",
    "    elif choice == \"3\":\n",
    "        print(\"\\nVerificando videos existentes...\\n\")\n",
    "    else:\n",
    "        print(\"❌ Opción inválida. Saliendo.\")\n",
    "        exit()\n",
    "    \n",
    "    # Verificar los videos generados\n",
    "    check_generated_videos()"
   ]
  },
  {
   "cell_type": "code",
   "execution_count": 3,
   "id": "27da9857",
   "metadata": {},
   "outputs": [
    {
     "name": "stdout",
     "output_type": "stream",
     "text": [
      "===== GENERADOR DE VIDEOS A PARTIR DE IMÁGENES =====\n",
      "Este script convertirá una secuencia de imágenes en un video MP4.\n",
      "\n",
      "Configuración:\n",
      "- Carpeta de entrada (frames): C:\\Users\\Invitado\\Documents\\facial_expression_detector\\data_procesada\\data\\SUJETO 3\\señas_procesadas\\A ver\\muestra_1\\salida\n",
      "- Archivo de video de salida: C:\\Users\\Invitado\\Documents\\facial_expression_detector\\data_procesada\\data\\SUJETO 3\\señas_procesadas\\A ver\\muestra_1\\video_salida.mp4\n",
      "- FPS (frames por segundo): 30\n",
      "\n",
      "Iniciando proceso de generación de video...\n",
      "Procesando 36 imágenes de salida\n"
     ]
    },
    {
     "name": "stderr",
     "output_type": "stream",
     "text": [
      "Generando video: 100%|██████████| 36/36 [00:00<00:00, 118.69it/s]"
     ]
    },
    {
     "name": "stdout",
     "output_type": "stream",
     "text": [
      "✅ Video generado correctamente en: C:\\Users\\Invitado\\Documents\\facial_expression_detector\\data_procesada\\data\\SUJETO 3\\señas_procesadas\\A ver\\muestra_1\\video_salida.mp4\n",
      "   - Frames exitosos: 36\n",
      "\n",
      "📊 Información del video generado:\n",
      "   - Ruta: C:\\Users\\Invitado\\Documents\\facial_expression_detector\\data_procesada\\data\\SUJETO 3\\señas_procesadas\\A ver\\muestra_1\\video_salida.mp4\n",
      "   - Tamaño: 0.33 MB\n",
      "   - Resolución: 640x640\n",
      "   - FPS: 30.00\n",
      "   - Frames: 36\n",
      "   - Duración: 1.20 segundos\n"
     ]
    },
    {
     "name": "stderr",
     "output_type": "stream",
     "text": [
      "\n"
     ]
    }
   ],
   "source": [
    "import os\n",
    "import cv2\n",
    "import numpy as np\n",
    "from tqdm import tqdm\n",
    "\n",
    "def process_folder_to_video(input_folder, output_video_path, fps=30):\n",
    "    \"\"\"\n",
    "    Convierte todas las imágenes (png, jpg, jpeg) en un directorio a un video MP4\n",
    "    \n",
    "    Args:\n",
    "        input_folder: Ruta de la carpeta con las imágenes\n",
    "        output_video_path: Ruta para guardar el video generado\n",
    "        fps: Frames por segundo para el video (default: 30)\n",
    "    \n",
    "    Returns:\n",
    "        bool: True si el video se generó correctamente, False en caso contrario\n",
    "    \"\"\"\n",
    "    try:\n",
    "        # Obtener todas las imágenes en la carpeta, ordenadas\n",
    "        image_files = sorted([f for f in os.listdir(input_folder) \n",
    "                          if f.lower().endswith(('.jpg', '.jpeg', '.png'))])\n",
    "        \n",
    "        # Verificar si hay imágenes\n",
    "        if not image_files:\n",
    "            print(f\"❌ No se encontraron imágenes válidas en la carpeta: {input_folder}\")\n",
    "            return False\n",
    "        \n",
    "        # Leer la primera imagen para obtener las dimensiones\n",
    "        first_image_path = os.path.join(input_folder, image_files[0])\n",
    "        \n",
    "        # Leer imagen usando numpy para manejar rutas con espacios\n",
    "        try:\n",
    "            # Método 1: Lectura directa\n",
    "            frame = cv2.imread(first_image_path)\n",
    "            \n",
    "            # Si falla, intentar método alternativo con numpy\n",
    "            if frame is None:\n",
    "                img_data = np.fromfile(first_image_path, dtype=np.uint8)\n",
    "                frame = cv2.imdecode(img_data, cv2.IMREAD_COLOR)\n",
    "        except Exception as e:\n",
    "            print(f\"❌ Error al leer la primera imagen {first_image_path}: {e}\")\n",
    "            return False\n",
    "        \n",
    "        # Comprobar si la imagen se cargó correctamente\n",
    "        if frame is None:\n",
    "            print(f\"❌ No se pudo leer la imagen: {first_image_path}\")\n",
    "            return False\n",
    "        \n",
    "        height, width = frame.shape[:2]\n",
    "        \n",
    "        # Configurar el video\n",
    "        fourcc = cv2.VideoWriter_fourcc(*'mp4v')  # Formato de compresión para video mp4\n",
    "        \n",
    "        # Asegurarse de que exista el directorio para guardar el video\n",
    "        os.makedirs(os.path.dirname(output_video_path), exist_ok=True)\n",
    "        \n",
    "        out = cv2.VideoWriter(output_video_path, fourcc, fps, (width, height))\n",
    "        \n",
    "        # Añadir las imágenes al video\n",
    "        print(f\"Procesando {len(image_files)} imágenes de {os.path.basename(input_folder)}\")\n",
    "        \n",
    "        successful_frames = 0\n",
    "        failed_frames = 0\n",
    "        \n",
    "        for filename in tqdm(image_files, desc=\"Generando video\"):\n",
    "            image_path = os.path.join(input_folder, filename)\n",
    "            \n",
    "            try:\n",
    "                # Intentar primero lectura directa\n",
    "                frame = cv2.imread(image_path)\n",
    "                \n",
    "                # Si falla, intentar con numpy para manejar espacios\n",
    "                if frame is None:\n",
    "                    img_data = np.fromfile(image_path, dtype=np.uint8)\n",
    "                    frame = cv2.imdecode(img_data, cv2.IMREAD_COLOR)\n",
    "                \n",
    "                # Verificar si la imagen fue leída correctamente\n",
    "                if frame is None:\n",
    "                    print(f\"⚠️ Imagen no leída: {image_path}\")\n",
    "                    failed_frames += 1\n",
    "                    continue\n",
    "                \n",
    "                # Añadir la imagen al video\n",
    "                out.write(frame)\n",
    "                successful_frames += 1\n",
    "                \n",
    "            except Exception as e:\n",
    "                print(f\"❌ Error procesando {image_path}: {e}\")\n",
    "                failed_frames += 1\n",
    "        \n",
    "        # Liberar el objeto de salida\n",
    "        out.release()\n",
    "        \n",
    "        # Resumen del proceso\n",
    "        if successful_frames > 0:\n",
    "            print(f\"✅ Video generado correctamente en: {output_video_path}\")\n",
    "            print(f\"   - Frames exitosos: {successful_frames}\")\n",
    "            if failed_frames > 0:\n",
    "                print(f\"   - Frames fallidos: {failed_frames}\")\n",
    "            return True\n",
    "        else:\n",
    "            print(f\"❌ No se pudo generar el video. Todos los frames fallaron.\")\n",
    "            return False\n",
    "            \n",
    "    except Exception as e:\n",
    "        print(f\"❌ Error general durante el procesamiento: {e}\")\n",
    "        return False\n",
    "\n",
    "def check_video_info(video_path):\n",
    "    \"\"\"\n",
    "    Verifica y muestra información de un video\n",
    "    \n",
    "    Args:\n",
    "        video_path: Ruta del video a verificar\n",
    "    \"\"\"\n",
    "    if not os.path.exists(video_path):\n",
    "        print(f\"❌ El video no existe: {video_path}\")\n",
    "        return\n",
    "        \n",
    "    video_size_mb = os.path.getsize(video_path) / (1024 * 1024)\n",
    "    \n",
    "    # Obtener información del video usando OpenCV\n",
    "    cap = cv2.VideoCapture(video_path)\n",
    "    if not cap.isOpened():\n",
    "        print(f\"⚠️ No se pudo abrir el video: {video_path}\")\n",
    "        return\n",
    "        \n",
    "    # Obtener propiedades\n",
    "    fps = cap.get(cv2.CAP_PROP_FPS)\n",
    "    frame_count = int(cap.get(cv2.CAP_PROP_FRAME_COUNT))\n",
    "    width = int(cap.get(cv2.CAP_PROP_FRAME_WIDTH))\n",
    "    height = int(cap.get(cv2.CAP_PROP_FRAME_HEIGHT))\n",
    "    duration = frame_count / fps if fps > 0 else 0\n",
    "    \n",
    "    cap.release()\n",
    "    \n",
    "    print(f\"\\n📊 Información del video generado:\")\n",
    "    print(f\"   - Ruta: {video_path}\")\n",
    "    print(f\"   - Tamaño: {video_size_mb:.2f} MB\")\n",
    "    print(f\"   - Resolución: {width}x{height}\")\n",
    "    print(f\"   - FPS: {fps:.2f}\")\n",
    "    print(f\"   - Frames: {frame_count}\")\n",
    "    print(f\"   - Duración: {duration:.2f} segundos\")\n",
    "\n",
    "# Menú principal\n",
    "if __name__ == \"__main__\":\n",
    "    print(\"===== GENERADOR DE VIDEOS A PARTIR DE IMÁGENES =====\")\n",
    "    print(\"Este script convertirá una secuencia de imágenes en un video MP4.\\n\")\n",
    "    \n",
    "    # Ruta de la carpeta con las imágenes (frames)\n",
    "    input_folder = r\"C:\\Users\\Invitado\\Documents\\facial_expression_detector\\data_procesada\\data\\SUJETO 3\\señas_procesadas\\A ver\\muestra_1\\salida\"  # MODIFICA ESTA RUTA\n",
    "    \n",
    "    # Ruta donde guardar el video generado\n",
    "    output_video = r\"C:\\Users\\Invitado\\Documents\\facial_expression_detector\\data_procesada\\data\\SUJETO 3\\señas_procesadas\\A ver\\muestra_1\\video_salida.mp4\"  # MODIFICA ESTA RUTA\n",
    "    \n",
    "    # Definir los FPS del video\n",
    "    fps = 30  # Frames por segundo (puedes modificar este valor)\n",
    "    \n",
    "    # Mostrar la configuración\n",
    "    print(f\"Configuración:\")\n",
    "    print(f\"- Carpeta de entrada (frames): {input_folder}\")\n",
    "    print(f\"- Archivo de video de salida: {output_video}\")\n",
    "    print(f\"- FPS (frames por segundo): {fps}\")\n",
    "    \n",
    "    # Verificar si las rutas son válidas\n",
    "    if not os.path.exists(input_folder):\n",
    "        print(f\"\\n❌ Error: La carpeta de entrada no existe: {input_folder}\")\n",
    "        print(\"Por favor, modifica la variable 'input_folder' en el código.\")\n",
    "        exit(1)\n",
    "        \n",
    "    if not os.path.isdir(input_folder):\n",
    "        print(f\"\\n❌ Error: La ruta de entrada no es una carpeta: {input_folder}\")\n",
    "        print(\"Por favor, proporciona una ruta válida a una carpeta.\")\n",
    "        exit(1)\n",
    "    \n",
    "    # Verificar si la carpeta de salida existe\n",
    "    output_dir = os.path.dirname(output_video)\n",
    "    if output_dir and not os.path.exists(output_dir):\n",
    "        try:\n",
    "            os.makedirs(output_dir, exist_ok=True)\n",
    "            print(f\"\\nℹ️ Se creó la carpeta de salida: {output_dir}\")\n",
    "        except Exception as e:\n",
    "            print(f\"\\n❌ Error al crear la carpeta de salida: {e}\")\n",
    "            print(\"Por favor, proporciona una ruta de salida válida.\")\n",
    "            exit(1)\n",
    "    \n",
    "    # Procesar la carpeta para generar el video\n",
    "    print(\"\\nIniciando proceso de generación de video...\")\n",
    "    success = process_folder_to_video(input_folder, output_video, fps)\n",
    "    \n",
    "    # Verificar el video generado si fue exitoso\n",
    "    if success:\n",
    "        check_video_info(output_video)"
   ]
  }
 ],
 "metadata": {
  "kernelspec": {
   "display_name": "env",
   "language": "python",
   "name": "python3"
  },
  "language_info": {
   "codemirror_mode": {
    "name": "ipython",
    "version": 3
   },
   "file_extension": ".py",
   "mimetype": "text/x-python",
   "name": "python",
   "nbconvert_exporter": "python",
   "pygments_lexer": "ipython3",
   "version": "3.10.0"
  }
 },
 "nbformat": 4,
 "nbformat_minor": 5
}
