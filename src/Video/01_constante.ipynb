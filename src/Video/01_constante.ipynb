{
 "cells": [
  {
   "cell_type": "code",
   "execution_count": 1,
   "id": "91524cdc",
   "metadata": {},
   "outputs": [],
   "source": [
    "import cv2\n",
    "import mediapipe as mp\n",
    "import numpy as np\n",
    "from scipy.special import softmax\n",
    "import os\n",
    "import matplotlib.pyplot as plt\n",
    "from collections import deque\n",
    "import time  # Asegúrate de importar este módulo\n",
    "import numpy as np\n",
    "\n",
    "# Definir constantes\n",
    "WINDOW_SIZE = 10           # Tamaño de la ventana deslizante\n",
    "NUM_KEY_FRAMES = 5        # Número de frames clave a extraer\n",
    "MOVEMENT_THRESHOLD = 0.3  # Umbral para detectar movimiento significativo\n",
    "IOU_THRESHOLD = 0.5       # Umbral para evaluación de Intersection over Union"
   ]
  }
 ],
 "metadata": {
  "kernelspec": {
   "display_name": "env",
   "language": "python",
   "name": "python3"
  },
  "language_info": {
   "codemirror_mode": {
    "name": "ipython",
    "version": 3
   },
   "file_extension": ".py",
   "mimetype": "text/x-python",
   "name": "python",
   "nbconvert_exporter": "python",
   "pygments_lexer": "ipython3",
   "version": "3.10.0"
  }
 },
 "nbformat": 4,
 "nbformat_minor": 5
}
